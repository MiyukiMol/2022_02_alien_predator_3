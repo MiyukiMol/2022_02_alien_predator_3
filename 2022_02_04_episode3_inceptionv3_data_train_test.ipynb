{
 "cells": [
  {
   "cell_type": "markdown",
   "id": "0f59d742",
   "metadata": {},
   "source": [
    "# Etude sur Alien vs Predator - épisode 3 : InceptionV3"
   ]
  },
  {
   "cell_type": "markdown",
   "id": "56b73aaa",
   "metadata": {},
   "source": [
    "Développer un programme de vision par ordinateur capable de différencier avec précision un Alien d'un Predator."
   ]
  },
  {
   "cell_type": "markdown",
   "id": "8eacf95a",
   "metadata": {},
   "source": [
    "Contexte du projet\n",
    "\n",
    "L'épisode 2 a mis en évidence que la technique de \"data augmentation\" permet de diminuer de manière très efficace le surapprentissage mais n'améliore que très peu (dans notre exemple !) la performance de différenciation d'une image d'un alien d'une image d'un prédator. Dans l'épisode 3, nous allons utiliser la technique dite de \"transfer learning\" et plus particulièrement d'extractions de caractéristiques (\"features extraction\") pour améliorer les performances du programme de vision par ordinateur.\n",
    "\n",
    "エピソード2では、データ補強技術は過学習を減らすのに非常に有効であるが、エイリアン画像と捕食者画像の区別の性能は（我々の例では！）わずかに向上するのみであることが示された。第3話では、コンピュータビジョンのプログラムの性能を向上させるために、転移学習、より具体的には特徴抽出を利用します。\n"
   ]
  },
  {
   "cell_type": "markdown",
   "id": "db2b2460",
   "metadata": {},
   "source": [
    "La procédure à suivre est la suivante :\n",
    "\n",
    "    Charger le modèle VGG-16 (mais qu'est-ce donc que ce VGG-16 ?) ;\n",
    "    Extraire les caractéristiques des images des jeux d'apprentissage, de validation et de test via VGG-16 ;\n",
    "    Entrainer un perceptron multi-couches avec le code Keras/TensorFlow suivant pour prédire à partir des caractéristiques extraites par VGG-16 la sortie (Alien ou Prédator) :\n",
    "\n",
    "model = models.Sequential()\n",
    "\n",
    "model.add(layers.Dense(units=256, activation='relu', input_dim=4 * 4 * 512))\n",
    "\n",
    "model.add(layers.Dense(units=1, activation='sigmoid'))\n",
    "\n",
    "    Conclure.\n",
    "\n",
    "    VGG-16モデルをロードします（VGG-16とは一体何でしょうか？）\n",
    "    VGG-16により、トレーニングセット、検証セット、テストセットから画像特徴を抽出する。\n",
    "    VGG-16で抽出した特徴量から出力（エイリアンかプレデターか）を予測するために、以下のKeras/TensorFlowコードで多層パーセプトロンを学習させます。\n",
    "\n",
    "model = models.Sequential()\n",
    "\n",
    "model.add(layers.Dense(units=256, activation='relu', input_dim=4 * 4 * 512))\n",
    "\n",
    "model.add(layers.Dense(units=1, activation=sigmoid'))\n",
    "\n",
    "    結論を出す。\n",
    "\n",
    "\n"
   ]
  },
  {
   "cell_type": "markdown",
   "id": "57e500dd",
   "metadata": {},
   "source": [
    "Tâches optionnelles, pour les plus courageuses et les plus courageux d'entre vous :\n",
    "\n",
    "    Tester d'autres modèles que VGG-16 pour effectuer l'étape de \"features extraction\" ;\n",
    "    Tester d'autres modèles de Machine Learning (par exemple SVM) pour effectuer l'étape de supervision.\n",
    "\n",
    "オプションのタスク、勇敢なあなたへ。\n",
    "\n",
    "    VGG-16以外のモデルで「特徴抽出」ステップをテストする。\n",
    "    他の機械学習モデル（例：SVM）をテストして、監督ステップを実行する。\n",
    "\n"
   ]
  },
  {
   "cell_type": "markdown",
   "id": "a3fd5ee2",
   "metadata": {},
   "source": [
    "### 1 - import librarys"
   ]
  },
  {
   "cell_type": "code",
   "execution_count": 41,
   "id": "0cc36538",
   "metadata": {},
   "outputs": [],
   "source": [
    "import pandas as pd\n",
    "import numpy as np\n",
    "import matplotlib.pyplot as plt\n",
    "import seaborn as sns\n",
    "import tensorflow\n",
    "from keras.preprocessing.image import load_img, img_to_array\n",
    "from keras.preprocessing.image import ImageDataGenerator\n",
    "from tensorflow.keras.models import Sequential\n",
    "from tensorflow.keras import layers \n",
    "from tensorflow.keras.layers import InputLayer, Dense\n",
    "from tensorflow.keras.layers import Conv2D, MaxPooling2D\n",
    "from tensorflow.keras.optimizers import Adam\n",
    "from sklearn.metrics import classification_report\n",
    "from sklearn.metrics import confusion_matrix\n",
    "from tensorflow.keras.applications.vgg16 import VGG16, preprocess_input, decode_predictions\n",
    "from tensorflow.keras.applications.mobilenet_v2 import preprocess_input\n",
    "from tensorflow.keras.applications.inception_v3 import InceptionV3, preprocess_input, decode_predictions\n"
   ]
  },
  {
   "cell_type": "markdown",
   "id": "b06bd0ba",
   "metadata": {},
   "source": [
    "### 2 - set option pour l'affichage"
   ]
  },
  {
   "cell_type": "code",
   "execution_count": 2,
   "id": "8dc4ad08",
   "metadata": {},
   "outputs": [],
   "source": [
    "pd.set_option(\"max_columns\", None)\n",
    "pd.set_option(\"max_colwidth\", None)\n",
    "pd.set_option(\"max_row\", 500)"
   ]
  },
  {
   "cell_type": "markdown",
   "id": "790a8921",
   "metadata": {},
   "source": [
    "### 3 - charger des images"
   ]
  },
  {
   "cell_type": "code",
   "execution_count": 3,
   "id": "3cb384ca",
   "metadata": {},
   "outputs": [],
   "source": [
    "dataset_dir = 'Data/'\n",
    "\n",
    "TRAINING_DIR = dataset_dir + 'Train/'\n",
    "VALIDATION_DIR = dataset_dir + 'Validation/'\n",
    "TEST_DIR = dataset_dir + 'Test/'"
   ]
  },
  {
   "cell_type": "code",
   "execution_count": 4,
   "id": "b9603267",
   "metadata": {},
   "outputs": [],
   "source": [
    "datagen = ImageDataGenerator(preprocessing_function=preprocess_input)"
   ]
  },
  {
   "cell_type": "code",
   "execution_count": 5,
   "id": "9e880784",
   "metadata": {},
   "outputs": [
    {
     "name": "stdout",
     "output_type": "stream",
     "text": [
      "Found 494 images belonging to 2 classes.\n"
     ]
    }
   ],
   "source": [
    "train_generator = datagen.flow_from_directory(TRAINING_DIR,\n",
    "                                            target_size = (150, 150),                                             \n",
    "                                            batch_size = 494,\n",
    "                                            class_mode=\"binary\",\n",
    "                                                        #seed=0                                              \n",
    "                                             )"
   ]
  },
  {
   "cell_type": "code",
   "execution_count": 6,
   "id": "31b76a8a",
   "metadata": {},
   "outputs": [
    {
     "name": "stdout",
     "output_type": "stream",
     "text": [
      "Found 200 images belonging to 2 classes.\n"
     ]
    }
   ],
   "source": [
    "val_generator = datagen.flow_from_directory(VALIDATION_DIR,\n",
    "                                            target_size=(150, 150),\n",
    "                                            batch_size = 200,\n",
    "                                            class_mode=\"binary\",\n",
    "                                            #seed=0,                                           \n",
    "                                           )"
   ]
  },
  {
   "cell_type": "code",
   "execution_count": 7,
   "id": "74d93370",
   "metadata": {},
   "outputs": [
    {
     "name": "stdout",
     "output_type": "stream",
     "text": [
      "Found 200 images belonging to 2 classes.\n"
     ]
    }
   ],
   "source": [
    "test_generator = datagen.flow_from_directory(TEST_DIR,\n",
    "                                            target_size=(150, 150),\n",
    "                                            batch_size = 200,\n",
    "                                            class_mode=\"binary\",\n",
    "                                            #seed=0,                                           \n",
    "                                           )"
   ]
  },
  {
   "cell_type": "code",
   "execution_count": 8,
   "id": "732ec448",
   "metadata": {},
   "outputs": [],
   "source": [
    "X_train = train_generator[0][0]\n",
    "y_train=  train_generator[0][1]"
   ]
  },
  {
   "cell_type": "code",
   "execution_count": 9,
   "id": "c39a345a",
   "metadata": {},
   "outputs": [
    {
     "data": {
      "text/plain": [
       "(494, 150, 150, 3)"
      ]
     },
     "execution_count": 9,
     "metadata": {},
     "output_type": "execute_result"
    }
   ],
   "source": [
    "X_train.shape"
   ]
  },
  {
   "cell_type": "code",
   "execution_count": 10,
   "id": "07119763",
   "metadata": {},
   "outputs": [],
   "source": [
    "X_val = val_generator[0][0]\n",
    "y_val = val_generator[0][1]"
   ]
  },
  {
   "cell_type": "code",
   "execution_count": 11,
   "id": "bae3e079",
   "metadata": {},
   "outputs": [],
   "source": [
    "X_test = test_generator[0][0]\n",
    "y_test = test_generator[0][1]"
   ]
  },
  {
   "cell_type": "code",
   "execution_count": 12,
   "id": "ba04b479",
   "metadata": {},
   "outputs": [],
   "source": [
    "input_shape=(150,150,3)\n",
    "base_model = InceptionV3(\n",
    "    input_tensor=layers.Input(shape=input_shape), \n",
    "    weights=\"imagenet\", \n",
    "    include_top=False\n",
    "    )\n"
   ]
  },
  {
   "cell_type": "code",
   "execution_count": 13,
   "id": "82645c4b",
   "metadata": {},
   "outputs": [
    {
     "name": "stdout",
     "output_type": "stream",
     "text": [
      "Model: \"inception_v3\"\n",
      "__________________________________________________________________________________________________\n",
      " Layer (type)                   Output Shape         Param #     Connected to                     \n",
      "==================================================================================================\n",
      " input_1 (InputLayer)           [(None, 150, 150, 3  0           []                               \n",
      "                                )]                                                                \n",
      "                                                                                                  \n",
      " conv2d (Conv2D)                (None, 74, 74, 32)   864         ['input_1[0][0]']                \n",
      "                                                                                                  \n",
      " batch_normalization (BatchNorm  (None, 74, 74, 32)  96          ['conv2d[0][0]']                 \n",
      " alization)                                                                                       \n",
      "                                                                                                  \n",
      " activation (Activation)        (None, 74, 74, 32)   0           ['batch_normalization[0][0]']    \n",
      "                                                                                                  \n",
      " conv2d_1 (Conv2D)              (None, 72, 72, 32)   9216        ['activation[0][0]']             \n",
      "                                                                                                  \n",
      " batch_normalization_1 (BatchNo  (None, 72, 72, 32)  96          ['conv2d_1[0][0]']               \n",
      " rmalization)                                                                                     \n",
      "                                                                                                  \n",
      " activation_1 (Activation)      (None, 72, 72, 32)   0           ['batch_normalization_1[0][0]']  \n",
      "                                                                                                  \n",
      " conv2d_2 (Conv2D)              (None, 72, 72, 64)   18432       ['activation_1[0][0]']           \n",
      "                                                                                                  \n",
      " batch_normalization_2 (BatchNo  (None, 72, 72, 64)  192         ['conv2d_2[0][0]']               \n",
      " rmalization)                                                                                     \n",
      "                                                                                                  \n",
      " activation_2 (Activation)      (None, 72, 72, 64)   0           ['batch_normalization_2[0][0]']  \n",
      "                                                                                                  \n",
      " max_pooling2d (MaxPooling2D)   (None, 35, 35, 64)   0           ['activation_2[0][0]']           \n",
      "                                                                                                  \n",
      " conv2d_3 (Conv2D)              (None, 35, 35, 80)   5120        ['max_pooling2d[0][0]']          \n",
      "                                                                                                  \n",
      " batch_normalization_3 (BatchNo  (None, 35, 35, 80)  240         ['conv2d_3[0][0]']               \n",
      " rmalization)                                                                                     \n",
      "                                                                                                  \n",
      " activation_3 (Activation)      (None, 35, 35, 80)   0           ['batch_normalization_3[0][0]']  \n",
      "                                                                                                  \n",
      " conv2d_4 (Conv2D)              (None, 33, 33, 192)  138240      ['activation_3[0][0]']           \n",
      "                                                                                                  \n",
      " batch_normalization_4 (BatchNo  (None, 33, 33, 192)  576        ['conv2d_4[0][0]']               \n",
      " rmalization)                                                                                     \n",
      "                                                                                                  \n",
      " activation_4 (Activation)      (None, 33, 33, 192)  0           ['batch_normalization_4[0][0]']  \n",
      "                                                                                                  \n",
      " max_pooling2d_1 (MaxPooling2D)  (None, 16, 16, 192)  0          ['activation_4[0][0]']           \n",
      "                                                                                                  \n",
      " conv2d_8 (Conv2D)              (None, 16, 16, 64)   12288       ['max_pooling2d_1[0][0]']        \n",
      "                                                                                                  \n",
      " batch_normalization_8 (BatchNo  (None, 16, 16, 64)  192         ['conv2d_8[0][0]']               \n",
      " rmalization)                                                                                     \n",
      "                                                                                                  \n",
      " activation_8 (Activation)      (None, 16, 16, 64)   0           ['batch_normalization_8[0][0]']  \n",
      "                                                                                                  \n",
      " conv2d_6 (Conv2D)              (None, 16, 16, 48)   9216        ['max_pooling2d_1[0][0]']        \n",
      "                                                                                                  \n",
      " conv2d_9 (Conv2D)              (None, 16, 16, 96)   55296       ['activation_8[0][0]']           \n",
      "                                                                                                  \n",
      " batch_normalization_6 (BatchNo  (None, 16, 16, 48)  144         ['conv2d_6[0][0]']               \n",
      " rmalization)                                                                                     \n",
      "                                                                                                  \n",
      " batch_normalization_9 (BatchNo  (None, 16, 16, 96)  288         ['conv2d_9[0][0]']               \n",
      " rmalization)                                                                                     \n",
      "                                                                                                  \n",
      " activation_6 (Activation)      (None, 16, 16, 48)   0           ['batch_normalization_6[0][0]']  \n",
      "                                                                                                  \n",
      " activation_9 (Activation)      (None, 16, 16, 96)   0           ['batch_normalization_9[0][0]']  \n",
      "                                                                                                  \n",
      " average_pooling2d (AveragePool  (None, 16, 16, 192)  0          ['max_pooling2d_1[0][0]']        \n",
      " ing2D)                                                                                           \n",
      "                                                                                                  \n",
      " conv2d_5 (Conv2D)              (None, 16, 16, 64)   12288       ['max_pooling2d_1[0][0]']        \n",
      "                                                                                                  \n",
      " conv2d_7 (Conv2D)              (None, 16, 16, 64)   76800       ['activation_6[0][0]']           \n",
      "                                                                                                  \n",
      " conv2d_10 (Conv2D)             (None, 16, 16, 96)   82944       ['activation_9[0][0]']           \n",
      "                                                                                                  \n",
      " conv2d_11 (Conv2D)             (None, 16, 16, 32)   6144        ['average_pooling2d[0][0]']      \n",
      "                                                                                                  \n",
      " batch_normalization_5 (BatchNo  (None, 16, 16, 64)  192         ['conv2d_5[0][0]']               \n",
      " rmalization)                                                                                     \n",
      "                                                                                                  \n",
      " batch_normalization_7 (BatchNo  (None, 16, 16, 64)  192         ['conv2d_7[0][0]']               \n",
      " rmalization)                                                                                     \n",
      "                                                                                                  \n",
      " batch_normalization_10 (BatchN  (None, 16, 16, 96)  288         ['conv2d_10[0][0]']              \n",
      " ormalization)                                                                                    \n",
      "                                                                                                  \n",
      " batch_normalization_11 (BatchN  (None, 16, 16, 32)  96          ['conv2d_11[0][0]']              \n",
      " ormalization)                                                                                    \n",
      "                                                                                                  \n",
      " activation_5 (Activation)      (None, 16, 16, 64)   0           ['batch_normalization_5[0][0]']  \n",
      "                                                                                                  \n",
      " activation_7 (Activation)      (None, 16, 16, 64)   0           ['batch_normalization_7[0][0]']  \n",
      "                                                                                                  \n",
      " activation_10 (Activation)     (None, 16, 16, 96)   0           ['batch_normalization_10[0][0]'] \n",
      "                                                                                                  \n",
      " activation_11 (Activation)     (None, 16, 16, 32)   0           ['batch_normalization_11[0][0]'] \n",
      "                                                                                                  \n",
      " mixed0 (Concatenate)           (None, 16, 16, 256)  0           ['activation_5[0][0]',           \n",
      "                                                                  'activation_7[0][0]',           \n",
      "                                                                  'activation_10[0][0]',          \n",
      "                                                                  'activation_11[0][0]']          \n",
      "                                                                                                  \n",
      " conv2d_15 (Conv2D)             (None, 16, 16, 64)   16384       ['mixed0[0][0]']                 \n",
      "                                                                                                  \n",
      " batch_normalization_15 (BatchN  (None, 16, 16, 64)  192         ['conv2d_15[0][0]']              \n",
      " ormalization)                                                                                    \n",
      "                                                                                                  \n",
      " activation_15 (Activation)     (None, 16, 16, 64)   0           ['batch_normalization_15[0][0]'] \n",
      "                                                                                                  \n",
      " conv2d_13 (Conv2D)             (None, 16, 16, 48)   12288       ['mixed0[0][0]']                 \n",
      "                                                                                                  \n",
      " conv2d_16 (Conv2D)             (None, 16, 16, 96)   55296       ['activation_15[0][0]']          \n",
      "                                                                                                  \n",
      " batch_normalization_13 (BatchN  (None, 16, 16, 48)  144         ['conv2d_13[0][0]']              \n",
      " ormalization)                                                                                    \n",
      "                                                                                                  \n",
      " batch_normalization_16 (BatchN  (None, 16, 16, 96)  288         ['conv2d_16[0][0]']              \n",
      " ormalization)                                                                                    \n",
      "                                                                                                  \n",
      " activation_13 (Activation)     (None, 16, 16, 48)   0           ['batch_normalization_13[0][0]'] \n",
      "                                                                                                  \n",
      " activation_16 (Activation)     (None, 16, 16, 96)   0           ['batch_normalization_16[0][0]'] \n",
      "                                                                                                  \n",
      " average_pooling2d_1 (AveragePo  (None, 16, 16, 256)  0          ['mixed0[0][0]']                 \n",
      " oling2D)                                                                                         \n",
      "                                                                                                  \n",
      " conv2d_12 (Conv2D)             (None, 16, 16, 64)   16384       ['mixed0[0][0]']                 \n",
      "                                                                                                  \n",
      " conv2d_14 (Conv2D)             (None, 16, 16, 64)   76800       ['activation_13[0][0]']          \n",
      "                                                                                                  \n",
      " conv2d_17 (Conv2D)             (None, 16, 16, 96)   82944       ['activation_16[0][0]']          \n",
      "                                                                                                  \n",
      " conv2d_18 (Conv2D)             (None, 16, 16, 64)   16384       ['average_pooling2d_1[0][0]']    \n",
      "                                                                                                  \n",
      " batch_normalization_12 (BatchN  (None, 16, 16, 64)  192         ['conv2d_12[0][0]']              \n",
      " ormalization)                                                                                    \n",
      "                                                                                                  \n",
      " batch_normalization_14 (BatchN  (None, 16, 16, 64)  192         ['conv2d_14[0][0]']              \n",
      " ormalization)                                                                                    \n",
      "                                                                                                  \n",
      " batch_normalization_17 (BatchN  (None, 16, 16, 96)  288         ['conv2d_17[0][0]']              \n",
      " ormalization)                                                                                    \n",
      "                                                                                                  \n",
      " batch_normalization_18 (BatchN  (None, 16, 16, 64)  192         ['conv2d_18[0][0]']              \n",
      " ormalization)                                                                                    \n",
      "                                                                                                  \n",
      " activation_12 (Activation)     (None, 16, 16, 64)   0           ['batch_normalization_12[0][0]'] \n",
      "                                                                                                  \n",
      " activation_14 (Activation)     (None, 16, 16, 64)   0           ['batch_normalization_14[0][0]'] \n",
      "                                                                                                  \n",
      " activation_17 (Activation)     (None, 16, 16, 96)   0           ['batch_normalization_17[0][0]'] \n",
      "                                                                                                  \n",
      " activation_18 (Activation)     (None, 16, 16, 64)   0           ['batch_normalization_18[0][0]'] \n",
      "                                                                                                  \n",
      " mixed1 (Concatenate)           (None, 16, 16, 288)  0           ['activation_12[0][0]',          \n",
      "                                                                  'activation_14[0][0]',          \n",
      "                                                                  'activation_17[0][0]',          \n",
      "                                                                  'activation_18[0][0]']          \n",
      "                                                                                                  \n",
      " conv2d_22 (Conv2D)             (None, 16, 16, 64)   18432       ['mixed1[0][0]']                 \n",
      "                                                                                                  \n",
      " batch_normalization_22 (BatchN  (None, 16, 16, 64)  192         ['conv2d_22[0][0]']              \n",
      " ormalization)                                                                                    \n",
      "                                                                                                  \n",
      " activation_22 (Activation)     (None, 16, 16, 64)   0           ['batch_normalization_22[0][0]'] \n",
      "                                                                                                  \n",
      " conv2d_20 (Conv2D)             (None, 16, 16, 48)   13824       ['mixed1[0][0]']                 \n",
      "                                                                                                  \n",
      " conv2d_23 (Conv2D)             (None, 16, 16, 96)   55296       ['activation_22[0][0]']          \n",
      "                                                                                                  \n",
      " batch_normalization_20 (BatchN  (None, 16, 16, 48)  144         ['conv2d_20[0][0]']              \n",
      " ormalization)                                                                                    \n",
      "                                                                                                  \n",
      " batch_normalization_23 (BatchN  (None, 16, 16, 96)  288         ['conv2d_23[0][0]']              \n",
      " ormalization)                                                                                    \n",
      "                                                                                                  \n",
      " activation_20 (Activation)     (None, 16, 16, 48)   0           ['batch_normalization_20[0][0]'] \n",
      "                                                                                                  \n",
      " activation_23 (Activation)     (None, 16, 16, 96)   0           ['batch_normalization_23[0][0]'] \n",
      "                                                                                                  \n",
      " average_pooling2d_2 (AveragePo  (None, 16, 16, 288)  0          ['mixed1[0][0]']                 \n",
      " oling2D)                                                                                         \n",
      "                                                                                                  \n",
      " conv2d_19 (Conv2D)             (None, 16, 16, 64)   18432       ['mixed1[0][0]']                 \n",
      "                                                                                                  \n",
      " conv2d_21 (Conv2D)             (None, 16, 16, 64)   76800       ['activation_20[0][0]']          \n",
      "                                                                                                  \n",
      " conv2d_24 (Conv2D)             (None, 16, 16, 96)   82944       ['activation_23[0][0]']          \n",
      "                                                                                                  \n",
      " conv2d_25 (Conv2D)             (None, 16, 16, 64)   18432       ['average_pooling2d_2[0][0]']    \n",
      "                                                                                                  \n",
      " batch_normalization_19 (BatchN  (None, 16, 16, 64)  192         ['conv2d_19[0][0]']              \n",
      " ormalization)                                                                                    \n",
      "                                                                                                  \n",
      " batch_normalization_21 (BatchN  (None, 16, 16, 64)  192         ['conv2d_21[0][0]']              \n",
      " ormalization)                                                                                    \n",
      "                                                                                                  \n",
      " batch_normalization_24 (BatchN  (None, 16, 16, 96)  288         ['conv2d_24[0][0]']              \n",
      " ormalization)                                                                                    \n",
      "                                                                                                  \n",
      " batch_normalization_25 (BatchN  (None, 16, 16, 64)  192         ['conv2d_25[0][0]']              \n",
      " ormalization)                                                                                    \n",
      "                                                                                                  \n",
      " activation_19 (Activation)     (None, 16, 16, 64)   0           ['batch_normalization_19[0][0]'] \n",
      "                                                                                                  \n",
      " activation_21 (Activation)     (None, 16, 16, 64)   0           ['batch_normalization_21[0][0]'] \n",
      "                                                                                                  \n",
      " activation_24 (Activation)     (None, 16, 16, 96)   0           ['batch_normalization_24[0][0]'] \n",
      "                                                                                                  \n",
      " activation_25 (Activation)     (None, 16, 16, 64)   0           ['batch_normalization_25[0][0]'] \n",
      "                                                                                                  \n",
      " mixed2 (Concatenate)           (None, 16, 16, 288)  0           ['activation_19[0][0]',          \n",
      "                                                                  'activation_21[0][0]',          \n",
      "                                                                  'activation_24[0][0]',          \n",
      "                                                                  'activation_25[0][0]']          \n",
      "                                                                                                  \n",
      " conv2d_27 (Conv2D)             (None, 16, 16, 64)   18432       ['mixed2[0][0]']                 \n",
      "                                                                                                  \n",
      " batch_normalization_27 (BatchN  (None, 16, 16, 64)  192         ['conv2d_27[0][0]']              \n",
      " ormalization)                                                                                    \n",
      "                                                                                                  \n",
      " activation_27 (Activation)     (None, 16, 16, 64)   0           ['batch_normalization_27[0][0]'] \n",
      "                                                                                                  \n",
      " conv2d_28 (Conv2D)             (None, 16, 16, 96)   55296       ['activation_27[0][0]']          \n",
      "                                                                                                  \n",
      " batch_normalization_28 (BatchN  (None, 16, 16, 96)  288         ['conv2d_28[0][0]']              \n",
      " ormalization)                                                                                    \n",
      "                                                                                                  \n",
      " activation_28 (Activation)     (None, 16, 16, 96)   0           ['batch_normalization_28[0][0]'] \n",
      "                                                                                                  \n",
      " conv2d_26 (Conv2D)             (None, 7, 7, 384)    995328      ['mixed2[0][0]']                 \n",
      "                                                                                                  \n",
      " conv2d_29 (Conv2D)             (None, 7, 7, 96)     82944       ['activation_28[0][0]']          \n",
      "                                                                                                  \n",
      " batch_normalization_26 (BatchN  (None, 7, 7, 384)   1152        ['conv2d_26[0][0]']              \n",
      " ormalization)                                                                                    \n",
      "                                                                                                  \n",
      " batch_normalization_29 (BatchN  (None, 7, 7, 96)    288         ['conv2d_29[0][0]']              \n",
      " ormalization)                                                                                    \n",
      "                                                                                                  \n",
      " activation_26 (Activation)     (None, 7, 7, 384)    0           ['batch_normalization_26[0][0]'] \n",
      "                                                                                                  \n",
      " activation_29 (Activation)     (None, 7, 7, 96)     0           ['batch_normalization_29[0][0]'] \n",
      "                                                                                                  \n",
      " max_pooling2d_2 (MaxPooling2D)  (None, 7, 7, 288)   0           ['mixed2[0][0]']                 \n",
      "                                                                                                  \n",
      " mixed3 (Concatenate)           (None, 7, 7, 768)    0           ['activation_26[0][0]',          \n",
      "                                                                  'activation_29[0][0]',          \n",
      "                                                                  'max_pooling2d_2[0][0]']        \n",
      "                                                                                                  \n",
      " conv2d_34 (Conv2D)             (None, 7, 7, 128)    98304       ['mixed3[0][0]']                 \n",
      "                                                                                                  \n",
      " batch_normalization_34 (BatchN  (None, 7, 7, 128)   384         ['conv2d_34[0][0]']              \n",
      " ormalization)                                                                                    \n",
      "                                                                                                  \n",
      " activation_34 (Activation)     (None, 7, 7, 128)    0           ['batch_normalization_34[0][0]'] \n",
      "                                                                                                  \n",
      " conv2d_35 (Conv2D)             (None, 7, 7, 128)    114688      ['activation_34[0][0]']          \n",
      "                                                                                                  \n",
      " batch_normalization_35 (BatchN  (None, 7, 7, 128)   384         ['conv2d_35[0][0]']              \n",
      " ormalization)                                                                                    \n",
      "                                                                                                  \n",
      " activation_35 (Activation)     (None, 7, 7, 128)    0           ['batch_normalization_35[0][0]'] \n",
      "                                                                                                  \n",
      " conv2d_31 (Conv2D)             (None, 7, 7, 128)    98304       ['mixed3[0][0]']                 \n",
      "                                                                                                  \n",
      " conv2d_36 (Conv2D)             (None, 7, 7, 128)    114688      ['activation_35[0][0]']          \n",
      "                                                                                                  \n",
      " batch_normalization_31 (BatchN  (None, 7, 7, 128)   384         ['conv2d_31[0][0]']              \n",
      " ormalization)                                                                                    \n",
      "                                                                                                  \n",
      " batch_normalization_36 (BatchN  (None, 7, 7, 128)   384         ['conv2d_36[0][0]']              \n",
      " ormalization)                                                                                    \n",
      "                                                                                                  \n",
      " activation_31 (Activation)     (None, 7, 7, 128)    0           ['batch_normalization_31[0][0]'] \n",
      "                                                                                                  \n",
      " activation_36 (Activation)     (None, 7, 7, 128)    0           ['batch_normalization_36[0][0]'] \n",
      "                                                                                                  \n",
      " conv2d_32 (Conv2D)             (None, 7, 7, 128)    114688      ['activation_31[0][0]']          \n",
      "                                                                                                  \n",
      " conv2d_37 (Conv2D)             (None, 7, 7, 128)    114688      ['activation_36[0][0]']          \n",
      "                                                                                                  \n",
      " batch_normalization_32 (BatchN  (None, 7, 7, 128)   384         ['conv2d_32[0][0]']              \n",
      " ormalization)                                                                                    \n",
      "                                                                                                  \n",
      " batch_normalization_37 (BatchN  (None, 7, 7, 128)   384         ['conv2d_37[0][0]']              \n",
      " ormalization)                                                                                    \n",
      "                                                                                                  \n",
      " activation_32 (Activation)     (None, 7, 7, 128)    0           ['batch_normalization_32[0][0]'] \n",
      "                                                                                                  \n",
      " activation_37 (Activation)     (None, 7, 7, 128)    0           ['batch_normalization_37[0][0]'] \n",
      "                                                                                                  \n",
      " average_pooling2d_3 (AveragePo  (None, 7, 7, 768)   0           ['mixed3[0][0]']                 \n",
      " oling2D)                                                                                         \n",
      "                                                                                                  \n",
      " conv2d_30 (Conv2D)             (None, 7, 7, 192)    147456      ['mixed3[0][0]']                 \n",
      "                                                                                                  \n",
      " conv2d_33 (Conv2D)             (None, 7, 7, 192)    172032      ['activation_32[0][0]']          \n",
      "                                                                                                  \n",
      " conv2d_38 (Conv2D)             (None, 7, 7, 192)    172032      ['activation_37[0][0]']          \n",
      "                                                                                                  \n",
      " conv2d_39 (Conv2D)             (None, 7, 7, 192)    147456      ['average_pooling2d_3[0][0]']    \n",
      "                                                                                                  \n",
      " batch_normalization_30 (BatchN  (None, 7, 7, 192)   576         ['conv2d_30[0][0]']              \n",
      " ormalization)                                                                                    \n",
      "                                                                                                  \n",
      " batch_normalization_33 (BatchN  (None, 7, 7, 192)   576         ['conv2d_33[0][0]']              \n",
      " ormalization)                                                                                    \n",
      "                                                                                                  \n",
      " batch_normalization_38 (BatchN  (None, 7, 7, 192)   576         ['conv2d_38[0][0]']              \n",
      " ormalization)                                                                                    \n",
      "                                                                                                  \n",
      " batch_normalization_39 (BatchN  (None, 7, 7, 192)   576         ['conv2d_39[0][0]']              \n",
      " ormalization)                                                                                    \n",
      "                                                                                                  \n",
      " activation_30 (Activation)     (None, 7, 7, 192)    0           ['batch_normalization_30[0][0]'] \n",
      "                                                                                                  \n",
      " activation_33 (Activation)     (None, 7, 7, 192)    0           ['batch_normalization_33[0][0]'] \n",
      "                                                                                                  \n",
      " activation_38 (Activation)     (None, 7, 7, 192)    0           ['batch_normalization_38[0][0]'] \n",
      "                                                                                                  \n",
      " activation_39 (Activation)     (None, 7, 7, 192)    0           ['batch_normalization_39[0][0]'] \n",
      "                                                                                                  \n",
      " mixed4 (Concatenate)           (None, 7, 7, 768)    0           ['activation_30[0][0]',          \n",
      "                                                                  'activation_33[0][0]',          \n",
      "                                                                  'activation_38[0][0]',          \n",
      "                                                                  'activation_39[0][0]']          \n",
      "                                                                                                  \n",
      " conv2d_44 (Conv2D)             (None, 7, 7, 160)    122880      ['mixed4[0][0]']                 \n",
      "                                                                                                  \n",
      " batch_normalization_44 (BatchN  (None, 7, 7, 160)   480         ['conv2d_44[0][0]']              \n",
      " ormalization)                                                                                    \n",
      "                                                                                                  \n",
      " activation_44 (Activation)     (None, 7, 7, 160)    0           ['batch_normalization_44[0][0]'] \n",
      "                                                                                                  \n",
      " conv2d_45 (Conv2D)             (None, 7, 7, 160)    179200      ['activation_44[0][0]']          \n",
      "                                                                                                  \n",
      " batch_normalization_45 (BatchN  (None, 7, 7, 160)   480         ['conv2d_45[0][0]']              \n",
      " ormalization)                                                                                    \n",
      "                                                                                                  \n",
      " activation_45 (Activation)     (None, 7, 7, 160)    0           ['batch_normalization_45[0][0]'] \n",
      "                                                                                                  \n",
      " conv2d_41 (Conv2D)             (None, 7, 7, 160)    122880      ['mixed4[0][0]']                 \n",
      "                                                                                                  \n",
      " conv2d_46 (Conv2D)             (None, 7, 7, 160)    179200      ['activation_45[0][0]']          \n",
      "                                                                                                  \n",
      " batch_normalization_41 (BatchN  (None, 7, 7, 160)   480         ['conv2d_41[0][0]']              \n",
      " ormalization)                                                                                    \n",
      "                                                                                                  \n",
      " batch_normalization_46 (BatchN  (None, 7, 7, 160)   480         ['conv2d_46[0][0]']              \n",
      " ormalization)                                                                                    \n",
      "                                                                                                  \n",
      " activation_41 (Activation)     (None, 7, 7, 160)    0           ['batch_normalization_41[0][0]'] \n",
      "                                                                                                  \n",
      " activation_46 (Activation)     (None, 7, 7, 160)    0           ['batch_normalization_46[0][0]'] \n",
      "                                                                                                  \n",
      " conv2d_42 (Conv2D)             (None, 7, 7, 160)    179200      ['activation_41[0][0]']          \n",
      "                                                                                                  \n",
      " conv2d_47 (Conv2D)             (None, 7, 7, 160)    179200      ['activation_46[0][0]']          \n",
      "                                                                                                  \n",
      " batch_normalization_42 (BatchN  (None, 7, 7, 160)   480         ['conv2d_42[0][0]']              \n",
      " ormalization)                                                                                    \n",
      "                                                                                                  \n",
      " batch_normalization_47 (BatchN  (None, 7, 7, 160)   480         ['conv2d_47[0][0]']              \n",
      " ormalization)                                                                                    \n",
      "                                                                                                  \n",
      " activation_42 (Activation)     (None, 7, 7, 160)    0           ['batch_normalization_42[0][0]'] \n",
      "                                                                                                  \n",
      " activation_47 (Activation)     (None, 7, 7, 160)    0           ['batch_normalization_47[0][0]'] \n",
      "                                                                                                  \n",
      " average_pooling2d_4 (AveragePo  (None, 7, 7, 768)   0           ['mixed4[0][0]']                 \n",
      " oling2D)                                                                                         \n",
      "                                                                                                  \n",
      " conv2d_40 (Conv2D)             (None, 7, 7, 192)    147456      ['mixed4[0][0]']                 \n",
      "                                                                                                  \n",
      " conv2d_43 (Conv2D)             (None, 7, 7, 192)    215040      ['activation_42[0][0]']          \n",
      "                                                                                                  \n",
      " conv2d_48 (Conv2D)             (None, 7, 7, 192)    215040      ['activation_47[0][0]']          \n",
      "                                                                                                  \n",
      " conv2d_49 (Conv2D)             (None, 7, 7, 192)    147456      ['average_pooling2d_4[0][0]']    \n",
      "                                                                                                  \n",
      " batch_normalization_40 (BatchN  (None, 7, 7, 192)   576         ['conv2d_40[0][0]']              \n",
      " ormalization)                                                                                    \n",
      "                                                                                                  \n",
      " batch_normalization_43 (BatchN  (None, 7, 7, 192)   576         ['conv2d_43[0][0]']              \n",
      " ormalization)                                                                                    \n",
      "                                                                                                  \n",
      " batch_normalization_48 (BatchN  (None, 7, 7, 192)   576         ['conv2d_48[0][0]']              \n",
      " ormalization)                                                                                    \n",
      "                                                                                                  \n",
      " batch_normalization_49 (BatchN  (None, 7, 7, 192)   576         ['conv2d_49[0][0]']              \n",
      " ormalization)                                                                                    \n",
      "                                                                                                  \n",
      " activation_40 (Activation)     (None, 7, 7, 192)    0           ['batch_normalization_40[0][0]'] \n",
      "                                                                                                  \n",
      " activation_43 (Activation)     (None, 7, 7, 192)    0           ['batch_normalization_43[0][0]'] \n",
      "                                                                                                  \n",
      " activation_48 (Activation)     (None, 7, 7, 192)    0           ['batch_normalization_48[0][0]'] \n",
      "                                                                                                  \n",
      " activation_49 (Activation)     (None, 7, 7, 192)    0           ['batch_normalization_49[0][0]'] \n",
      "                                                                                                  \n",
      " mixed5 (Concatenate)           (None, 7, 7, 768)    0           ['activation_40[0][0]',          \n",
      "                                                                  'activation_43[0][0]',          \n",
      "                                                                  'activation_48[0][0]',          \n",
      "                                                                  'activation_49[0][0]']          \n",
      "                                                                                                  \n",
      " conv2d_54 (Conv2D)             (None, 7, 7, 160)    122880      ['mixed5[0][0]']                 \n",
      "                                                                                                  \n",
      " batch_normalization_54 (BatchN  (None, 7, 7, 160)   480         ['conv2d_54[0][0]']              \n",
      " ormalization)                                                                                    \n",
      "                                                                                                  \n",
      " activation_54 (Activation)     (None, 7, 7, 160)    0           ['batch_normalization_54[0][0]'] \n",
      "                                                                                                  \n",
      " conv2d_55 (Conv2D)             (None, 7, 7, 160)    179200      ['activation_54[0][0]']          \n",
      "                                                                                                  \n",
      " batch_normalization_55 (BatchN  (None, 7, 7, 160)   480         ['conv2d_55[0][0]']              \n",
      " ormalization)                                                                                    \n",
      "                                                                                                  \n",
      " activation_55 (Activation)     (None, 7, 7, 160)    0           ['batch_normalization_55[0][0]'] \n",
      "                                                                                                  \n",
      " conv2d_51 (Conv2D)             (None, 7, 7, 160)    122880      ['mixed5[0][0]']                 \n",
      "                                                                                                  \n",
      " conv2d_56 (Conv2D)             (None, 7, 7, 160)    179200      ['activation_55[0][0]']          \n",
      "                                                                                                  \n",
      " batch_normalization_51 (BatchN  (None, 7, 7, 160)   480         ['conv2d_51[0][0]']              \n",
      " ormalization)                                                                                    \n",
      "                                                                                                  \n",
      " batch_normalization_56 (BatchN  (None, 7, 7, 160)   480         ['conv2d_56[0][0]']              \n",
      " ormalization)                                                                                    \n",
      "                                                                                                  \n",
      " activation_51 (Activation)     (None, 7, 7, 160)    0           ['batch_normalization_51[0][0]'] \n",
      "                                                                                                  \n",
      " activation_56 (Activation)     (None, 7, 7, 160)    0           ['batch_normalization_56[0][0]'] \n",
      "                                                                                                  \n",
      " conv2d_52 (Conv2D)             (None, 7, 7, 160)    179200      ['activation_51[0][0]']          \n",
      "                                                                                                  \n",
      " conv2d_57 (Conv2D)             (None, 7, 7, 160)    179200      ['activation_56[0][0]']          \n",
      "                                                                                                  \n",
      " batch_normalization_52 (BatchN  (None, 7, 7, 160)   480         ['conv2d_52[0][0]']              \n",
      " ormalization)                                                                                    \n",
      "                                                                                                  \n",
      " batch_normalization_57 (BatchN  (None, 7, 7, 160)   480         ['conv2d_57[0][0]']              \n",
      " ormalization)                                                                                    \n",
      "                                                                                                  \n",
      " activation_52 (Activation)     (None, 7, 7, 160)    0           ['batch_normalization_52[0][0]'] \n",
      "                                                                                                  \n",
      " activation_57 (Activation)     (None, 7, 7, 160)    0           ['batch_normalization_57[0][0]'] \n",
      "                                                                                                  \n",
      " average_pooling2d_5 (AveragePo  (None, 7, 7, 768)   0           ['mixed5[0][0]']                 \n",
      " oling2D)                                                                                         \n",
      "                                                                                                  \n",
      " conv2d_50 (Conv2D)             (None, 7, 7, 192)    147456      ['mixed5[0][0]']                 \n",
      "                                                                                                  \n",
      " conv2d_53 (Conv2D)             (None, 7, 7, 192)    215040      ['activation_52[0][0]']          \n",
      "                                                                                                  \n",
      " conv2d_58 (Conv2D)             (None, 7, 7, 192)    215040      ['activation_57[0][0]']          \n",
      "                                                                                                  \n",
      " conv2d_59 (Conv2D)             (None, 7, 7, 192)    147456      ['average_pooling2d_5[0][0]']    \n",
      "                                                                                                  \n",
      " batch_normalization_50 (BatchN  (None, 7, 7, 192)   576         ['conv2d_50[0][0]']              \n",
      " ormalization)                                                                                    \n",
      "                                                                                                  \n",
      " batch_normalization_53 (BatchN  (None, 7, 7, 192)   576         ['conv2d_53[0][0]']              \n",
      " ormalization)                                                                                    \n",
      "                                                                                                  \n",
      " batch_normalization_58 (BatchN  (None, 7, 7, 192)   576         ['conv2d_58[0][0]']              \n",
      " ormalization)                                                                                    \n",
      "                                                                                                  \n",
      " batch_normalization_59 (BatchN  (None, 7, 7, 192)   576         ['conv2d_59[0][0]']              \n",
      " ormalization)                                                                                    \n",
      "                                                                                                  \n",
      " activation_50 (Activation)     (None, 7, 7, 192)    0           ['batch_normalization_50[0][0]'] \n",
      "                                                                                                  \n",
      " activation_53 (Activation)     (None, 7, 7, 192)    0           ['batch_normalization_53[0][0]'] \n",
      "                                                                                                  \n",
      " activation_58 (Activation)     (None, 7, 7, 192)    0           ['batch_normalization_58[0][0]'] \n",
      "                                                                                                  \n",
      " activation_59 (Activation)     (None, 7, 7, 192)    0           ['batch_normalization_59[0][0]'] \n",
      "                                                                                                  \n",
      " mixed6 (Concatenate)           (None, 7, 7, 768)    0           ['activation_50[0][0]',          \n",
      "                                                                  'activation_53[0][0]',          \n",
      "                                                                  'activation_58[0][0]',          \n",
      "                                                                  'activation_59[0][0]']          \n",
      "                                                                                                  \n",
      " conv2d_64 (Conv2D)             (None, 7, 7, 192)    147456      ['mixed6[0][0]']                 \n",
      "                                                                                                  \n",
      " batch_normalization_64 (BatchN  (None, 7, 7, 192)   576         ['conv2d_64[0][0]']              \n",
      " ormalization)                                                                                    \n",
      "                                                                                                  \n",
      " activation_64 (Activation)     (None, 7, 7, 192)    0           ['batch_normalization_64[0][0]'] \n",
      "                                                                                                  \n",
      " conv2d_65 (Conv2D)             (None, 7, 7, 192)    258048      ['activation_64[0][0]']          \n",
      "                                                                                                  \n",
      " batch_normalization_65 (BatchN  (None, 7, 7, 192)   576         ['conv2d_65[0][0]']              \n",
      " ormalization)                                                                                    \n",
      "                                                                                                  \n",
      " activation_65 (Activation)     (None, 7, 7, 192)    0           ['batch_normalization_65[0][0]'] \n",
      "                                                                                                  \n",
      " conv2d_61 (Conv2D)             (None, 7, 7, 192)    147456      ['mixed6[0][0]']                 \n",
      "                                                                                                  \n",
      " conv2d_66 (Conv2D)             (None, 7, 7, 192)    258048      ['activation_65[0][0]']          \n",
      "                                                                                                  \n",
      " batch_normalization_61 (BatchN  (None, 7, 7, 192)   576         ['conv2d_61[0][0]']              \n",
      " ormalization)                                                                                    \n",
      "                                                                                                  \n",
      " batch_normalization_66 (BatchN  (None, 7, 7, 192)   576         ['conv2d_66[0][0]']              \n",
      " ormalization)                                                                                    \n",
      "                                                                                                  \n",
      " activation_61 (Activation)     (None, 7, 7, 192)    0           ['batch_normalization_61[0][0]'] \n",
      "                                                                                                  \n",
      " activation_66 (Activation)     (None, 7, 7, 192)    0           ['batch_normalization_66[0][0]'] \n",
      "                                                                                                  \n",
      " conv2d_62 (Conv2D)             (None, 7, 7, 192)    258048      ['activation_61[0][0]']          \n",
      "                                                                                                  \n",
      " conv2d_67 (Conv2D)             (None, 7, 7, 192)    258048      ['activation_66[0][0]']          \n",
      "                                                                                                  \n",
      " batch_normalization_62 (BatchN  (None, 7, 7, 192)   576         ['conv2d_62[0][0]']              \n",
      " ormalization)                                                                                    \n",
      "                                                                                                  \n",
      " batch_normalization_67 (BatchN  (None, 7, 7, 192)   576         ['conv2d_67[0][0]']              \n",
      " ormalization)                                                                                    \n",
      "                                                                                                  \n",
      " activation_62 (Activation)     (None, 7, 7, 192)    0           ['batch_normalization_62[0][0]'] \n",
      "                                                                                                  \n",
      " activation_67 (Activation)     (None, 7, 7, 192)    0           ['batch_normalization_67[0][0]'] \n",
      "                                                                                                  \n",
      " average_pooling2d_6 (AveragePo  (None, 7, 7, 768)   0           ['mixed6[0][0]']                 \n",
      " oling2D)                                                                                         \n",
      "                                                                                                  \n",
      " conv2d_60 (Conv2D)             (None, 7, 7, 192)    147456      ['mixed6[0][0]']                 \n",
      "                                                                                                  \n",
      " conv2d_63 (Conv2D)             (None, 7, 7, 192)    258048      ['activation_62[0][0]']          \n",
      "                                                                                                  \n",
      " conv2d_68 (Conv2D)             (None, 7, 7, 192)    258048      ['activation_67[0][0]']          \n",
      "                                                                                                  \n",
      " conv2d_69 (Conv2D)             (None, 7, 7, 192)    147456      ['average_pooling2d_6[0][0]']    \n",
      "                                                                                                  \n",
      " batch_normalization_60 (BatchN  (None, 7, 7, 192)   576         ['conv2d_60[0][0]']              \n",
      " ormalization)                                                                                    \n",
      "                                                                                                  \n",
      " batch_normalization_63 (BatchN  (None, 7, 7, 192)   576         ['conv2d_63[0][0]']              \n",
      " ormalization)                                                                                    \n",
      "                                                                                                  \n",
      " batch_normalization_68 (BatchN  (None, 7, 7, 192)   576         ['conv2d_68[0][0]']              \n",
      " ormalization)                                                                                    \n",
      "                                                                                                  \n",
      " batch_normalization_69 (BatchN  (None, 7, 7, 192)   576         ['conv2d_69[0][0]']              \n",
      " ormalization)                                                                                    \n",
      "                                                                                                  \n",
      " activation_60 (Activation)     (None, 7, 7, 192)    0           ['batch_normalization_60[0][0]'] \n",
      "                                                                                                  \n",
      " activation_63 (Activation)     (None, 7, 7, 192)    0           ['batch_normalization_63[0][0]'] \n",
      "                                                                                                  \n",
      " activation_68 (Activation)     (None, 7, 7, 192)    0           ['batch_normalization_68[0][0]'] \n",
      "                                                                                                  \n",
      " activation_69 (Activation)     (None, 7, 7, 192)    0           ['batch_normalization_69[0][0]'] \n",
      "                                                                                                  \n",
      " mixed7 (Concatenate)           (None, 7, 7, 768)    0           ['activation_60[0][0]',          \n",
      "                                                                  'activation_63[0][0]',          \n",
      "                                                                  'activation_68[0][0]',          \n",
      "                                                                  'activation_69[0][0]']          \n",
      "                                                                                                  \n",
      " conv2d_72 (Conv2D)             (None, 7, 7, 192)    147456      ['mixed7[0][0]']                 \n",
      "                                                                                                  \n",
      " batch_normalization_72 (BatchN  (None, 7, 7, 192)   576         ['conv2d_72[0][0]']              \n",
      " ormalization)                                                                                    \n",
      "                                                                                                  \n",
      " activation_72 (Activation)     (None, 7, 7, 192)    0           ['batch_normalization_72[0][0]'] \n",
      "                                                                                                  \n",
      " conv2d_73 (Conv2D)             (None, 7, 7, 192)    258048      ['activation_72[0][0]']          \n",
      "                                                                                                  \n",
      " batch_normalization_73 (BatchN  (None, 7, 7, 192)   576         ['conv2d_73[0][0]']              \n",
      " ormalization)                                                                                    \n",
      "                                                                                                  \n",
      " activation_73 (Activation)     (None, 7, 7, 192)    0           ['batch_normalization_73[0][0]'] \n",
      "                                                                                                  \n",
      " conv2d_70 (Conv2D)             (None, 7, 7, 192)    147456      ['mixed7[0][0]']                 \n",
      "                                                                                                  \n",
      " conv2d_74 (Conv2D)             (None, 7, 7, 192)    258048      ['activation_73[0][0]']          \n",
      "                                                                                                  \n",
      " batch_normalization_70 (BatchN  (None, 7, 7, 192)   576         ['conv2d_70[0][0]']              \n",
      " ormalization)                                                                                    \n",
      "                                                                                                  \n",
      " batch_normalization_74 (BatchN  (None, 7, 7, 192)   576         ['conv2d_74[0][0]']              \n",
      " ormalization)                                                                                    \n",
      "                                                                                                  \n",
      " activation_70 (Activation)     (None, 7, 7, 192)    0           ['batch_normalization_70[0][0]'] \n",
      "                                                                                                  \n",
      " activation_74 (Activation)     (None, 7, 7, 192)    0           ['batch_normalization_74[0][0]'] \n",
      "                                                                                                  \n",
      " conv2d_71 (Conv2D)             (None, 3, 3, 320)    552960      ['activation_70[0][0]']          \n",
      "                                                                                                  \n",
      " conv2d_75 (Conv2D)             (None, 3, 3, 192)    331776      ['activation_74[0][0]']          \n",
      "                                                                                                  \n",
      " batch_normalization_71 (BatchN  (None, 3, 3, 320)   960         ['conv2d_71[0][0]']              \n",
      " ormalization)                                                                                    \n",
      "                                                                                                  \n",
      " batch_normalization_75 (BatchN  (None, 3, 3, 192)   576         ['conv2d_75[0][0]']              \n",
      " ormalization)                                                                                    \n",
      "                                                                                                  \n",
      " activation_71 (Activation)     (None, 3, 3, 320)    0           ['batch_normalization_71[0][0]'] \n",
      "                                                                                                  \n",
      " activation_75 (Activation)     (None, 3, 3, 192)    0           ['batch_normalization_75[0][0]'] \n",
      "                                                                                                  \n",
      " max_pooling2d_3 (MaxPooling2D)  (None, 3, 3, 768)   0           ['mixed7[0][0]']                 \n",
      "                                                                                                  \n",
      " mixed8 (Concatenate)           (None, 3, 3, 1280)   0           ['activation_71[0][0]',          \n",
      "                                                                  'activation_75[0][0]',          \n",
      "                                                                  'max_pooling2d_3[0][0]']        \n",
      "                                                                                                  \n",
      " conv2d_80 (Conv2D)             (None, 3, 3, 448)    573440      ['mixed8[0][0]']                 \n",
      "                                                                                                  \n",
      " batch_normalization_80 (BatchN  (None, 3, 3, 448)   1344        ['conv2d_80[0][0]']              \n",
      " ormalization)                                                                                    \n",
      "                                                                                                  \n",
      " activation_80 (Activation)     (None, 3, 3, 448)    0           ['batch_normalization_80[0][0]'] \n",
      "                                                                                                  \n",
      " conv2d_77 (Conv2D)             (None, 3, 3, 384)    491520      ['mixed8[0][0]']                 \n",
      "                                                                                                  \n",
      " conv2d_81 (Conv2D)             (None, 3, 3, 384)    1548288     ['activation_80[0][0]']          \n",
      "                                                                                                  \n",
      " batch_normalization_77 (BatchN  (None, 3, 3, 384)   1152        ['conv2d_77[0][0]']              \n",
      " ormalization)                                                                                    \n",
      "                                                                                                  \n",
      " batch_normalization_81 (BatchN  (None, 3, 3, 384)   1152        ['conv2d_81[0][0]']              \n",
      " ormalization)                                                                                    \n",
      "                                                                                                  \n",
      " activation_77 (Activation)     (None, 3, 3, 384)    0           ['batch_normalization_77[0][0]'] \n",
      "                                                                                                  \n",
      " activation_81 (Activation)     (None, 3, 3, 384)    0           ['batch_normalization_81[0][0]'] \n",
      "                                                                                                  \n",
      " conv2d_78 (Conv2D)             (None, 3, 3, 384)    442368      ['activation_77[0][0]']          \n",
      "                                                                                                  \n",
      " conv2d_79 (Conv2D)             (None, 3, 3, 384)    442368      ['activation_77[0][0]']          \n",
      "                                                                                                  \n",
      " conv2d_82 (Conv2D)             (None, 3, 3, 384)    442368      ['activation_81[0][0]']          \n",
      "                                                                                                  \n",
      " conv2d_83 (Conv2D)             (None, 3, 3, 384)    442368      ['activation_81[0][0]']          \n",
      "                                                                                                  \n",
      " average_pooling2d_7 (AveragePo  (None, 3, 3, 1280)  0           ['mixed8[0][0]']                 \n",
      " oling2D)                                                                                         \n",
      "                                                                                                  \n",
      " conv2d_76 (Conv2D)             (None, 3, 3, 320)    409600      ['mixed8[0][0]']                 \n",
      "                                                                                                  \n",
      " batch_normalization_78 (BatchN  (None, 3, 3, 384)   1152        ['conv2d_78[0][0]']              \n",
      " ormalization)                                                                                    \n",
      "                                                                                                  \n",
      " batch_normalization_79 (BatchN  (None, 3, 3, 384)   1152        ['conv2d_79[0][0]']              \n",
      " ormalization)                                                                                    \n",
      "                                                                                                  \n",
      " batch_normalization_82 (BatchN  (None, 3, 3, 384)   1152        ['conv2d_82[0][0]']              \n",
      " ormalization)                                                                                    \n",
      "                                                                                                  \n",
      " batch_normalization_83 (BatchN  (None, 3, 3, 384)   1152        ['conv2d_83[0][0]']              \n",
      " ormalization)                                                                                    \n",
      "                                                                                                  \n",
      " conv2d_84 (Conv2D)             (None, 3, 3, 192)    245760      ['average_pooling2d_7[0][0]']    \n",
      "                                                                                                  \n",
      " batch_normalization_76 (BatchN  (None, 3, 3, 320)   960         ['conv2d_76[0][0]']              \n",
      " ormalization)                                                                                    \n",
      "                                                                                                  \n",
      " activation_78 (Activation)     (None, 3, 3, 384)    0           ['batch_normalization_78[0][0]'] \n",
      "                                                                                                  \n",
      " activation_79 (Activation)     (None, 3, 3, 384)    0           ['batch_normalization_79[0][0]'] \n",
      "                                                                                                  \n",
      " activation_82 (Activation)     (None, 3, 3, 384)    0           ['batch_normalization_82[0][0]'] \n",
      "                                                                                                  \n",
      " activation_83 (Activation)     (None, 3, 3, 384)    0           ['batch_normalization_83[0][0]'] \n",
      "                                                                                                  \n",
      " batch_normalization_84 (BatchN  (None, 3, 3, 192)   576         ['conv2d_84[0][0]']              \n",
      " ormalization)                                                                                    \n",
      "                                                                                                  \n",
      " activation_76 (Activation)     (None, 3, 3, 320)    0           ['batch_normalization_76[0][0]'] \n",
      "                                                                                                  \n",
      " mixed9_0 (Concatenate)         (None, 3, 3, 768)    0           ['activation_78[0][0]',          \n",
      "                                                                  'activation_79[0][0]']          \n",
      "                                                                                                  \n",
      " concatenate (Concatenate)      (None, 3, 3, 768)    0           ['activation_82[0][0]',          \n",
      "                                                                  'activation_83[0][0]']          \n",
      "                                                                                                  \n",
      " activation_84 (Activation)     (None, 3, 3, 192)    0           ['batch_normalization_84[0][0]'] \n",
      "                                                                                                  \n",
      " mixed9 (Concatenate)           (None, 3, 3, 2048)   0           ['activation_76[0][0]',          \n",
      "                                                                  'mixed9_0[0][0]',               \n",
      "                                                                  'concatenate[0][0]',            \n",
      "                                                                  'activation_84[0][0]']          \n",
      "                                                                                                  \n",
      " conv2d_89 (Conv2D)             (None, 3, 3, 448)    917504      ['mixed9[0][0]']                 \n",
      "                                                                                                  \n",
      " batch_normalization_89 (BatchN  (None, 3, 3, 448)   1344        ['conv2d_89[0][0]']              \n",
      " ormalization)                                                                                    \n",
      "                                                                                                  \n",
      " activation_89 (Activation)     (None, 3, 3, 448)    0           ['batch_normalization_89[0][0]'] \n",
      "                                                                                                  \n",
      " conv2d_86 (Conv2D)             (None, 3, 3, 384)    786432      ['mixed9[0][0]']                 \n",
      "                                                                                                  \n",
      " conv2d_90 (Conv2D)             (None, 3, 3, 384)    1548288     ['activation_89[0][0]']          \n",
      "                                                                                                  \n",
      " batch_normalization_86 (BatchN  (None, 3, 3, 384)   1152        ['conv2d_86[0][0]']              \n",
      " ormalization)                                                                                    \n",
      "                                                                                                  \n",
      " batch_normalization_90 (BatchN  (None, 3, 3, 384)   1152        ['conv2d_90[0][0]']              \n",
      " ormalization)                                                                                    \n",
      "                                                                                                  \n",
      " activation_86 (Activation)     (None, 3, 3, 384)    0           ['batch_normalization_86[0][0]'] \n",
      "                                                                                                  \n",
      " activation_90 (Activation)     (None, 3, 3, 384)    0           ['batch_normalization_90[0][0]'] \n",
      "                                                                                                  \n",
      " conv2d_87 (Conv2D)             (None, 3, 3, 384)    442368      ['activation_86[0][0]']          \n",
      "                                                                                                  \n",
      " conv2d_88 (Conv2D)             (None, 3, 3, 384)    442368      ['activation_86[0][0]']          \n",
      "                                                                                                  \n",
      " conv2d_91 (Conv2D)             (None, 3, 3, 384)    442368      ['activation_90[0][0]']          \n",
      "                                                                                                  \n",
      " conv2d_92 (Conv2D)             (None, 3, 3, 384)    442368      ['activation_90[0][0]']          \n",
      "                                                                                                  \n",
      " average_pooling2d_8 (AveragePo  (None, 3, 3, 2048)  0           ['mixed9[0][0]']                 \n",
      " oling2D)                                                                                         \n",
      "                                                                                                  \n",
      " conv2d_85 (Conv2D)             (None, 3, 3, 320)    655360      ['mixed9[0][0]']                 \n",
      "                                                                                                  \n",
      " batch_normalization_87 (BatchN  (None, 3, 3, 384)   1152        ['conv2d_87[0][0]']              \n",
      " ormalization)                                                                                    \n",
      "                                                                                                  \n",
      " batch_normalization_88 (BatchN  (None, 3, 3, 384)   1152        ['conv2d_88[0][0]']              \n",
      " ormalization)                                                                                    \n",
      "                                                                                                  \n",
      " batch_normalization_91 (BatchN  (None, 3, 3, 384)   1152        ['conv2d_91[0][0]']              \n",
      " ormalization)                                                                                    \n",
      "                                                                                                  \n",
      " batch_normalization_92 (BatchN  (None, 3, 3, 384)   1152        ['conv2d_92[0][0]']              \n",
      " ormalization)                                                                                    \n",
      "                                                                                                  \n",
      " conv2d_93 (Conv2D)             (None, 3, 3, 192)    393216      ['average_pooling2d_8[0][0]']    \n",
      "                                                                                                  \n",
      " batch_normalization_85 (BatchN  (None, 3, 3, 320)   960         ['conv2d_85[0][0]']              \n",
      " ormalization)                                                                                    \n",
      "                                                                                                  \n",
      " activation_87 (Activation)     (None, 3, 3, 384)    0           ['batch_normalization_87[0][0]'] \n",
      "                                                                                                  \n",
      " activation_88 (Activation)     (None, 3, 3, 384)    0           ['batch_normalization_88[0][0]'] \n",
      "                                                                                                  \n",
      " activation_91 (Activation)     (None, 3, 3, 384)    0           ['batch_normalization_91[0][0]'] \n",
      "                                                                                                  \n",
      " activation_92 (Activation)     (None, 3, 3, 384)    0           ['batch_normalization_92[0][0]'] \n",
      "                                                                                                  \n",
      " batch_normalization_93 (BatchN  (None, 3, 3, 192)   576         ['conv2d_93[0][0]']              \n",
      " ormalization)                                                                                    \n",
      "                                                                                                  \n",
      " activation_85 (Activation)     (None, 3, 3, 320)    0           ['batch_normalization_85[0][0]'] \n",
      "                                                                                                  \n",
      " mixed9_1 (Concatenate)         (None, 3, 3, 768)    0           ['activation_87[0][0]',          \n",
      "                                                                  'activation_88[0][0]']          \n",
      "                                                                                                  \n",
      " concatenate_1 (Concatenate)    (None, 3, 3, 768)    0           ['activation_91[0][0]',          \n",
      "                                                                  'activation_92[0][0]']          \n",
      "                                                                                                  \n",
      " activation_93 (Activation)     (None, 3, 3, 192)    0           ['batch_normalization_93[0][0]'] \n",
      "                                                                                                  \n",
      " mixed10 (Concatenate)          (None, 3, 3, 2048)   0           ['activation_85[0][0]',          \n",
      "                                                                  'mixed9_1[0][0]',               \n",
      "                                                                  'concatenate_1[0][0]',          \n",
      "                                                                  'activation_93[0][0]']          \n",
      "                                                                                                  \n",
      "==================================================================================================\n",
      "Total params: 21,802,784\n",
      "Trainable params: 21,768,352\n",
      "Non-trainable params: 34,432\n",
      "__________________________________________________________________________________________________\n"
     ]
    }
   ],
   "source": [
    "base_model.summary()"
   ]
  },
  {
   "cell_type": "code",
   "execution_count": 14,
   "id": "74ec4354",
   "metadata": {},
   "outputs": [],
   "source": [
    "#base_model.summary()"
   ]
  },
  {
   "cell_type": "code",
   "execution_count": 15,
   "id": "a35a889d",
   "metadata": {},
   "outputs": [],
   "source": [
    "#base_model.output"
   ]
  },
  {
   "cell_type": "markdown",
   "id": "6df31103",
   "metadata": {},
   "source": [
    "### Feature maps InceptionV3 pour Train / Test / Val"
   ]
  },
  {
   "cell_type": "code",
   "execution_count": 16,
   "id": "9bb5d630",
   "metadata": {},
   "outputs": [],
   "source": [
    "feature_train = base_model.predict(train_generator[0][0]).reshape(494, -1)"
   ]
  },
  {
   "cell_type": "code",
   "execution_count": 17,
   "id": "a06f8b06",
   "metadata": {},
   "outputs": [],
   "source": [
    "feature_val = base_model.predict(val_generator[0][0]).reshape(200, -1)"
   ]
  },
  {
   "cell_type": "code",
   "execution_count": 18,
   "id": "a161dfee",
   "metadata": {},
   "outputs": [],
   "source": [
    "feature_test = base_model.predict(test_generator[0][0]).reshape(200, -1)"
   ]
  },
  {
   "cell_type": "code",
   "execution_count": 19,
   "id": "2c2dc7f1",
   "metadata": {},
   "outputs": [
    {
     "data": {
      "text/plain": [
       "((494, 18432), (200, 18432), (200, 18432))"
      ]
     },
     "execution_count": 19,
     "metadata": {},
     "output_type": "execute_result"
    }
   ],
   "source": [
    "feature_train.shape, feature_val.shape, feature_test.shape"
   ]
  },
  {
   "cell_type": "code",
   "execution_count": 20,
   "id": "7b451928",
   "metadata": {},
   "outputs": [
    {
     "data": {
      "text/plain": [
       "numpy.ndarray"
      ]
     },
     "execution_count": 20,
     "metadata": {},
     "output_type": "execute_result"
    }
   ],
   "source": [
    "type(feature_train)"
   ]
  },
  {
   "cell_type": "code",
   "execution_count": 21,
   "id": "e0fe20cb",
   "metadata": {},
   "outputs": [],
   "source": [
    "#feature_train"
   ]
  },
  {
   "cell_type": "markdown",
   "id": "78b1f732",
   "metadata": {},
   "source": [
    "### Entrainer un perceptron multi-couches avec le code Keras suivant pour prédire à partir des caractéristiques extraites par InceptionV3 la sortie (Alien ou Prédator)"
   ]
  },
  {
   "cell_type": "code",
   "execution_count": 22,
   "id": "adb2a752",
   "metadata": {},
   "outputs": [],
   "source": [
    "model = Sequential()\n",
    "model.add(layers.Dense(units=256, activation='relu', input_dim=3 * 3 * 2048))\n",
    "model.add(layers.Dense(units=1, activation='sigmoid'))"
   ]
  },
  {
   "cell_type": "code",
   "execution_count": 23,
   "id": "18d5c62d",
   "metadata": {},
   "outputs": [],
   "source": [
    "model.compile(loss='binary_crossentropy',\n",
    "              optimizer=Adam(learning_rate=0.01),\n",
    "              metrics=['accuracy'])"
   ]
  },
  {
   "cell_type": "code",
   "execution_count": 24,
   "id": "94d69b65",
   "metadata": {},
   "outputs": [
    {
     "name": "stdout",
     "output_type": "stream",
     "text": [
      "Model: \"sequential\"\n",
      "_________________________________________________________________\n",
      " Layer (type)                Output Shape              Param #   \n",
      "=================================================================\n",
      " dense (Dense)               (None, 256)               4718848   \n",
      "                                                                 \n",
      " dense_1 (Dense)             (None, 1)                 257       \n",
      "                                                                 \n",
      "=================================================================\n",
      "Total params: 4,719,105\n",
      "Trainable params: 4,719,105\n",
      "Non-trainable params: 0\n",
      "_________________________________________________________________\n"
     ]
    }
   ],
   "source": [
    "model.summary()"
   ]
  },
  {
   "cell_type": "code",
   "execution_count": 25,
   "id": "c869f34b",
   "metadata": {},
   "outputs": [
    {
     "name": "stdout",
     "output_type": "stream",
     "text": [
      "Epoch 1/100\n",
      "1/1 [==============================] - 1s 1s/step - loss: 1.1893 - accuracy: 0.4474 - val_loss: 749.2416 - val_accuracy: 0.5000\n",
      "Epoch 2/100\n",
      "1/1 [==============================] - 0s 146ms/step - loss: 746.3817 - accuracy: 0.5000 - val_loss: 136.0906 - val_accuracy: 0.5000\n",
      "Epoch 3/100\n",
      "1/1 [==============================] - 0s 161ms/step - loss: 126.9906 - accuracy: 0.5000 - val_loss: 115.5117 - val_accuracy: 0.5000\n",
      "Epoch 4/100\n",
      "1/1 [==============================] - 0s 161ms/step - loss: 110.5283 - accuracy: 0.5000 - val_loss: 118.6275 - val_accuracy: 0.5000\n",
      "Epoch 5/100\n",
      "1/1 [==============================] - 0s 154ms/step - loss: 113.1901 - accuracy: 0.5000 - val_loss: 92.0135 - val_accuracy: 0.5000\n",
      "Epoch 6/100\n",
      "1/1 [==============================] - 0s 151ms/step - loss: 87.1036 - accuracy: 0.5000 - val_loss: 54.9642 - val_accuracy: 0.5000\n",
      "Epoch 7/100\n",
      "1/1 [==============================] - 0s 161ms/step - loss: 50.9596 - accuracy: 0.5000 - val_loss: 14.6645 - val_accuracy: 0.5200\n",
      "Epoch 8/100\n",
      "1/1 [==============================] - 0s 171ms/step - loss: 11.6808 - accuracy: 0.5202 - val_loss: 9.3949 - val_accuracy: 0.5750\n",
      "Epoch 9/100\n",
      "1/1 [==============================] - 0s 172ms/step - loss: 7.5122 - accuracy: 0.6134 - val_loss: 29.2038 - val_accuracy: 0.5000\n",
      "Epoch 10/100\n",
      "1/1 [==============================] - 0s 176ms/step - loss: 26.9211 - accuracy: 0.5000 - val_loss: 34.7845 - val_accuracy: 0.5000\n",
      "Epoch 11/100\n",
      "1/1 [==============================] - 0s 152ms/step - loss: 32.6798 - accuracy: 0.5000 - val_loss: 32.3456 - val_accuracy: 0.5000\n",
      "Epoch 12/100\n",
      "1/1 [==============================] - 0s 148ms/step - loss: 30.1941 - accuracy: 0.5000 - val_loss: 25.0355 - val_accuracy: 0.5000\n",
      "Epoch 13/100\n",
      "1/1 [==============================] - 0s 166ms/step - loss: 22.5505 - accuracy: 0.5000 - val_loss: 14.1426 - val_accuracy: 0.5200\n",
      "Epoch 14/100\n",
      "1/1 [==============================] - 0s 171ms/step - loss: 11.6287 - accuracy: 0.5506 - val_loss: 4.4148 - val_accuracy: 0.7400\n",
      "Epoch 15/100\n",
      "1/1 [==============================] - 0s 167ms/step - loss: 2.8506 - accuracy: 0.7895 - val_loss: 1.5237 - val_accuracy: 0.8500\n",
      "Epoch 16/100\n",
      "1/1 [==============================] - 0s 165ms/step - loss: 0.5972 - accuracy: 0.9089 - val_loss: 5.9976 - val_accuracy: 0.6550\n",
      "Epoch 17/100\n",
      "1/1 [==============================] - 0s 150ms/step - loss: 3.3190 - accuracy: 0.7429 - val_loss: 11.7541 - val_accuracy: 0.5500\n",
      "Epoch 18/100\n",
      "1/1 [==============================] - 0s 147ms/step - loss: 8.0742 - accuracy: 0.5749 - val_loss: 14.0124 - val_accuracy: 0.5400\n",
      "Epoch 19/100\n",
      "1/1 [==============================] - 0s 156ms/step - loss: 10.1432 - accuracy: 0.5526 - val_loss: 12.6291 - val_accuracy: 0.5500\n",
      "Epoch 20/100\n",
      "1/1 [==============================] - 0s 150ms/step - loss: 8.7919 - accuracy: 0.5668 - val_loss: 8.8306 - val_accuracy: 0.6100\n",
      "Epoch 21/100\n",
      "1/1 [==============================] - 0s 156ms/step - loss: 5.3830 - accuracy: 0.6518 - val_loss: 4.6125 - val_accuracy: 0.6700\n",
      "Epoch 22/100\n",
      "1/1 [==============================] - 0s 186ms/step - loss: 2.3699 - accuracy: 0.8016 - val_loss: 1.9641 - val_accuracy: 0.8150\n",
      "Epoch 23/100\n",
      "1/1 [==============================] - 0s 203ms/step - loss: 0.8214 - accuracy: 0.8866 - val_loss: 1.3652 - val_accuracy: 0.8600\n",
      "Epoch 24/100\n",
      "1/1 [==============================] - 0s 161ms/step - loss: 0.4923 - accuracy: 0.9211 - val_loss: 1.7472 - val_accuracy: 0.8200\n",
      "Epoch 25/100\n",
      "1/1 [==============================] - 0s 163ms/step - loss: 0.8326 - accuracy: 0.8907 - val_loss: 2.4624 - val_accuracy: 0.7850\n",
      "Epoch 26/100\n",
      "1/1 [==============================] - 0s 189ms/step - loss: 1.3007 - accuracy: 0.8583 - val_loss: 3.0416 - val_accuracy: 0.7600\n",
      "Epoch 27/100\n",
      "1/1 [==============================] - 0s 258ms/step - loss: 1.7702 - accuracy: 0.8158 - val_loss: 3.3942 - val_accuracy: 0.7350\n",
      "Epoch 28/100\n",
      "1/1 [==============================] - 0s 176ms/step - loss: 2.0838 - accuracy: 0.7874 - val_loss: 3.4158 - val_accuracy: 0.7250\n",
      "Epoch 29/100\n",
      "1/1 [==============================] - 0s 175ms/step - loss: 2.1218 - accuracy: 0.7773 - val_loss: 3.1375 - val_accuracy: 0.7400\n",
      "Epoch 30/100\n",
      "1/1 [==============================] - 0s 160ms/step - loss: 1.9020 - accuracy: 0.7915 - val_loss: 2.6690 - val_accuracy: 0.7550\n",
      "Epoch 31/100\n",
      "1/1 [==============================] - 0s 166ms/step - loss: 1.5291 - accuracy: 0.8138 - val_loss: 2.1294 - val_accuracy: 0.7800\n",
      "Epoch 32/100\n",
      "1/1 [==============================] - 0s 162ms/step - loss: 1.1295 - accuracy: 0.8502 - val_loss: 1.6192 - val_accuracy: 0.8100\n",
      "Epoch 33/100\n",
      "1/1 [==============================] - 0s 183ms/step - loss: 0.7875 - accuracy: 0.8806 - val_loss: 1.1946 - val_accuracy: 0.8400\n",
      "Epoch 34/100\n",
      "1/1 [==============================] - 0s 167ms/step - loss: 0.5272 - accuracy: 0.9089 - val_loss: 0.9348 - val_accuracy: 0.8600\n",
      "Epoch 35/100\n",
      "1/1 [==============================] - 0s 157ms/step - loss: 0.3415 - accuracy: 0.9231 - val_loss: 0.8321 - val_accuracy: 0.8600\n",
      "Epoch 36/100\n",
      "1/1 [==============================] - 0s 172ms/step - loss: 0.2379 - accuracy: 0.9413 - val_loss: 0.8329 - val_accuracy: 0.8500\n",
      "Epoch 37/100\n",
      "1/1 [==============================] - 0s 172ms/step - loss: 0.2395 - accuracy: 0.9534 - val_loss: 0.9268 - val_accuracy: 0.8400\n",
      "Epoch 38/100\n",
      "1/1 [==============================] - 0s 167ms/step - loss: 0.3207 - accuracy: 0.9190 - val_loss: 1.0515 - val_accuracy: 0.8200\n",
      "Epoch 39/100\n",
      "1/1 [==============================] - 0s 160ms/step - loss: 0.4229 - accuracy: 0.8968 - val_loss: 1.1499 - val_accuracy: 0.7950\n",
      "Epoch 40/100\n",
      "1/1 [==============================] - 0s 167ms/step - loss: 0.5043 - accuracy: 0.8947 - val_loss: 1.1987 - val_accuracy: 0.7900\n",
      "Epoch 41/100\n",
      "1/1 [==============================] - 0s 175ms/step - loss: 0.5443 - accuracy: 0.8846 - val_loss: 1.1872 - val_accuracy: 0.7850\n",
      "Epoch 42/100\n",
      "1/1 [==============================] - 0s 167ms/step - loss: 0.5426 - accuracy: 0.8785 - val_loss: 1.1214 - val_accuracy: 0.7900\n",
      "Epoch 43/100\n",
      "1/1 [==============================] - 0s 174ms/step - loss: 0.5048 - accuracy: 0.8806 - val_loss: 1.0173 - val_accuracy: 0.7950\n",
      "Epoch 44/100\n",
      "1/1 [==============================] - 0s 160ms/step - loss: 0.4445 - accuracy: 0.8887 - val_loss: 0.8935 - val_accuracy: 0.8000\n",
      "Epoch 45/100\n",
      "1/1 [==============================] - 0s 156ms/step - loss: 0.3723 - accuracy: 0.8988 - val_loss: 0.7709 - val_accuracy: 0.8150\n",
      "Epoch 46/100\n",
      "1/1 [==============================] - 0s 162ms/step - loss: 0.2982 - accuracy: 0.9069 - val_loss: 0.6669 - val_accuracy: 0.8300\n",
      "Epoch 47/100\n",
      "1/1 [==============================] - 0s 168ms/step - loss: 0.2331 - accuracy: 0.9150 - val_loss: 0.5909 - val_accuracy: 0.8550\n",
      "Epoch 48/100\n",
      "1/1 [==============================] - 0s 187ms/step - loss: 0.1824 - accuracy: 0.9332 - val_loss: 0.5401 - val_accuracy: 0.8650\n",
      "Epoch 49/100\n",
      "1/1 [==============================] - 0s 159ms/step - loss: 0.1485 - accuracy: 0.9494 - val_loss: 0.5075 - val_accuracy: 0.8550\n",
      "Epoch 50/100\n",
      "1/1 [==============================] - 0s 161ms/step - loss: 0.1276 - accuracy: 0.9615 - val_loss: 0.4899 - val_accuracy: 0.8600\n",
      "Epoch 51/100\n",
      "1/1 [==============================] - 0s 164ms/step - loss: 0.1188 - accuracy: 0.9656 - val_loss: 0.4805 - val_accuracy: 0.8600\n",
      "Epoch 52/100\n",
      "1/1 [==============================] - 0s 167ms/step - loss: 0.1165 - accuracy: 0.9555 - val_loss: 0.4776 - val_accuracy: 0.8750\n",
      "Epoch 53/100\n",
      "1/1 [==============================] - 0s 173ms/step - loss: 0.1185 - accuracy: 0.9474 - val_loss: 0.4794 - val_accuracy: 0.8700\n",
      "Epoch 54/100\n",
      "1/1 [==============================] - 0s 156ms/step - loss: 0.1228 - accuracy: 0.9413 - val_loss: 0.4801 - val_accuracy: 0.8500\n",
      "Epoch 55/100\n",
      "1/1 [==============================] - 0s 165ms/step - loss: 0.1271 - accuracy: 0.9352 - val_loss: 0.4803 - val_accuracy: 0.8500\n",
      "Epoch 56/100\n",
      "1/1 [==============================] - 0s 184ms/step - loss: 0.1310 - accuracy: 0.9291 - val_loss: 0.4798 - val_accuracy: 0.8500\n",
      "Epoch 57/100\n",
      "1/1 [==============================] - 0s 177ms/step - loss: 0.1342 - accuracy: 0.9251 - val_loss: 0.4768 - val_accuracy: 0.8550\n",
      "Epoch 58/100\n"
     ]
    },
    {
     "name": "stdout",
     "output_type": "stream",
     "text": [
      "1/1 [==============================] - 0s 172ms/step - loss: 0.1358 - accuracy: 0.9211 - val_loss: 0.4715 - val_accuracy: 0.8550\n",
      "Epoch 59/100\n",
      "1/1 [==============================] - 0s 174ms/step - loss: 0.1358 - accuracy: 0.9190 - val_loss: 0.4640 - val_accuracy: 0.8550\n",
      "Epoch 60/100\n",
      "1/1 [==============================] - 0s 175ms/step - loss: 0.1340 - accuracy: 0.9190 - val_loss: 0.4543 - val_accuracy: 0.8550\n",
      "Epoch 61/100\n",
      "1/1 [==============================] - 0s 179ms/step - loss: 0.1310 - accuracy: 0.9170 - val_loss: 0.4427 - val_accuracy: 0.8550\n",
      "Epoch 62/100\n",
      "1/1 [==============================] - 0s 166ms/step - loss: 0.1277 - accuracy: 0.9190 - val_loss: 0.4307 - val_accuracy: 0.8550\n",
      "Epoch 63/100\n",
      "1/1 [==============================] - 0s 184ms/step - loss: 0.1244 - accuracy: 0.9231 - val_loss: 0.4191 - val_accuracy: 0.8450\n",
      "Epoch 64/100\n",
      "1/1 [==============================] - 0s 180ms/step - loss: 0.1218 - accuracy: 0.9231 - val_loss: 0.4079 - val_accuracy: 0.8450\n",
      "Epoch 65/100\n",
      "1/1 [==============================] - 0s 167ms/step - loss: 0.1198 - accuracy: 0.9251 - val_loss: 0.3983 - val_accuracy: 0.8450\n",
      "Epoch 66/100\n",
      "1/1 [==============================] - 0s 178ms/step - loss: 0.1184 - accuracy: 0.9271 - val_loss: 0.3905 - val_accuracy: 0.8450\n",
      "Epoch 67/100\n",
      "1/1 [==============================] - 0s 187ms/step - loss: 0.1175 - accuracy: 0.9291 - val_loss: 0.3841 - val_accuracy: 0.8500\n",
      "Epoch 68/100\n",
      "1/1 [==============================] - 0s 175ms/step - loss: 0.1165 - accuracy: 0.9332 - val_loss: 0.3794 - val_accuracy: 0.8550\n",
      "Epoch 69/100\n",
      "1/1 [==============================] - 0s 176ms/step - loss: 0.1156 - accuracy: 0.9332 - val_loss: 0.3759 - val_accuracy: 0.8450\n",
      "Epoch 70/100\n",
      "1/1 [==============================] - 0s 259ms/step - loss: 0.1144 - accuracy: 0.9737 - val_loss: 0.3737 - val_accuracy: 0.8450\n",
      "Epoch 71/100\n",
      "1/1 [==============================] - 0s 279ms/step - loss: 0.1128 - accuracy: 0.9737 - val_loss: 0.3727 - val_accuracy: 0.8450\n",
      "Epoch 72/100\n",
      "1/1 [==============================] - 0s 251ms/step - loss: 0.1105 - accuracy: 0.9737 - val_loss: 0.3727 - val_accuracy: 0.8500\n",
      "Epoch 73/100\n",
      "1/1 [==============================] - 0s 178ms/step - loss: 0.1078 - accuracy: 0.9737 - val_loss: 0.3737 - val_accuracy: 0.8550\n",
      "Epoch 74/100\n",
      "1/1 [==============================] - 0s 178ms/step - loss: 0.1048 - accuracy: 0.9757 - val_loss: 0.3758 - val_accuracy: 0.8600\n",
      "Epoch 75/100\n",
      "1/1 [==============================] - 0s 177ms/step - loss: 0.1016 - accuracy: 0.9757 - val_loss: 0.3793 - val_accuracy: 0.8600\n",
      "Epoch 76/100\n",
      "1/1 [==============================] - 0s 332ms/step - loss: 0.0983 - accuracy: 0.9737 - val_loss: 0.3836 - val_accuracy: 0.8600\n",
      "Epoch 77/100\n",
      "1/1 [==============================] - 0s 275ms/step - loss: 0.0953 - accuracy: 0.9717 - val_loss: 0.3887 - val_accuracy: 0.8650\n",
      "Epoch 78/100\n",
      "1/1 [==============================] - 0s 222ms/step - loss: 0.0926 - accuracy: 0.9717 - val_loss: 0.3944 - val_accuracy: 0.8650\n",
      "Epoch 79/100\n",
      "1/1 [==============================] - 0s 253ms/step - loss: 0.0900 - accuracy: 0.9737 - val_loss: 0.4004 - val_accuracy: 0.8700\n",
      "Epoch 80/100\n",
      "1/1 [==============================] - 0s 185ms/step - loss: 0.0876 - accuracy: 0.9717 - val_loss: 0.4065 - val_accuracy: 0.8700\n",
      "Epoch 81/100\n",
      "1/1 [==============================] - 0s 207ms/step - loss: 0.0855 - accuracy: 0.9737 - val_loss: 0.4134 - val_accuracy: 0.8700\n",
      "Epoch 82/100\n",
      "1/1 [==============================] - 0s 193ms/step - loss: 0.0838 - accuracy: 0.9717 - val_loss: 0.4202 - val_accuracy: 0.8700\n",
      "Epoch 83/100\n",
      "1/1 [==============================] - 0s 199ms/step - loss: 0.0824 - accuracy: 0.9717 - val_loss: 0.4270 - val_accuracy: 0.8700\n",
      "Epoch 84/100\n",
      "1/1 [==============================] - 0s 162ms/step - loss: 0.0809 - accuracy: 0.9737 - val_loss: 0.4334 - val_accuracy: 0.8700\n",
      "Epoch 85/100\n",
      "1/1 [==============================] - 0s 172ms/step - loss: 0.0794 - accuracy: 0.9737 - val_loss: 0.4394 - val_accuracy: 0.8700\n",
      "Epoch 86/100\n",
      "1/1 [==============================] - 0s 172ms/step - loss: 0.0781 - accuracy: 0.9737 - val_loss: 0.4447 - val_accuracy: 0.8700\n",
      "Epoch 87/100\n",
      "1/1 [==============================] - 0s 170ms/step - loss: 0.0769 - accuracy: 0.9737 - val_loss: 0.4493 - val_accuracy: 0.8750\n",
      "Epoch 88/100\n",
      "1/1 [==============================] - 0s 155ms/step - loss: 0.0757 - accuracy: 0.9737 - val_loss: 0.4530 - val_accuracy: 0.8750\n",
      "Epoch 89/100\n",
      "1/1 [==============================] - 0s 163ms/step - loss: 0.0746 - accuracy: 0.9717 - val_loss: 0.4559 - val_accuracy: 0.8750\n",
      "Epoch 90/100\n",
      "1/1 [==============================] - 0s 154ms/step - loss: 0.0736 - accuracy: 0.9737 - val_loss: 0.4580 - val_accuracy: 0.8750\n",
      "Epoch 91/100\n",
      "1/1 [==============================] - 0s 152ms/step - loss: 0.0725 - accuracy: 0.9757 - val_loss: 0.4596 - val_accuracy: 0.8750\n",
      "Epoch 92/100\n",
      "1/1 [==============================] - 0s 150ms/step - loss: 0.0714 - accuracy: 0.9777 - val_loss: 0.4606 - val_accuracy: 0.8750\n",
      "Epoch 93/100\n",
      "1/1 [==============================] - ETA: 0s - loss: 0.0703 - accuracy: 0.97 - 0s 147ms/step - loss: 0.0703 - accuracy: 0.9777 - val_loss: 0.4612 - val_accuracy: 0.8750\n",
      "Epoch 94/100\n",
      "1/1 [==============================] - 0s 149ms/step - loss: 0.0693 - accuracy: 0.9777 - val_loss: 0.4616 - val_accuracy: 0.8700\n",
      "Epoch 95/100\n",
      "1/1 [==============================] - 0s 158ms/step - loss: 0.0684 - accuracy: 0.9777 - val_loss: 0.4618 - val_accuracy: 0.8700\n",
      "Epoch 96/100\n",
      "1/1 [==============================] - 0s 153ms/step - loss: 0.0675 - accuracy: 0.9777 - val_loss: 0.4618 - val_accuracy: 0.8700\n",
      "Epoch 97/100\n",
      "1/1 [==============================] - 0s 146ms/step - loss: 0.0666 - accuracy: 0.9777 - val_loss: 0.4618 - val_accuracy: 0.8700\n",
      "Epoch 98/100\n",
      "1/1 [==============================] - 0s 144ms/step - loss: 0.0657 - accuracy: 0.9798 - val_loss: 0.4618 - val_accuracy: 0.8700\n",
      "Epoch 99/100\n",
      "1/1 [==============================] - ETA: 0s - loss: 0.0649 - accuracy: 0.97 - 0s 141ms/step - loss: 0.0649 - accuracy: 0.9798 - val_loss: 0.4620 - val_accuracy: 0.8700\n",
      "Epoch 100/100\n",
      "1/1 [==============================] - 0s 151ms/step - loss: 0.0640 - accuracy: 0.9798 - val_loss: 0.4623 - val_accuracy: 0.8700\n"
     ]
    }
   ],
   "source": [
    "history = model.fit(feature_train, \n",
    "          y_train,\n",
    "          epochs = 100,\n",
    "          validation_data = (feature_val, \n",
    "                             y_val), \n",
    "          steps_per_epoch=1,\n",
    "          validation_steps=1\n",
    "         )"
   ]
  },
  {
   "cell_type": "code",
   "execution_count": 26,
   "id": "893dfc0a",
   "metadata": {},
   "outputs": [],
   "source": [
    "#history.history['loss']"
   ]
  },
  {
   "cell_type": "code",
   "execution_count": 27,
   "id": "55714fba",
   "metadata": {},
   "outputs": [
    {
     "data": {
      "image/png": "[encoded data removed]",
      "text/plain": [
       "<Figure size 432x288 with 1 Axes>"
      ]
     },
     "metadata": {
      "needs_background": "light"
     },
     "output_type": "display_data"
    }
   ],
   "source": [
    "plt.title('Loss')\n",
    "plt.plot(history.history['loss'], label='Train dataset')\n",
    "plt.plot(history.history['val_loss'], label='Validation dataset')\n",
    "plt.xlabel('Epoch')\n",
    "plt.ylabel('Loss')\n",
    "plt.legend()\n",
    "plt.show()"
   ]
  },
  {
   "cell_type": "code",
   "execution_count": 28,
   "id": "d5d89e8c",
   "metadata": {},
   "outputs": [
    {
     "data": {
      "image/png": "[encoded data removed]",
      "text/plain": [
       "<Figure size 432x288 with 1 Axes>"
      ]
     },
     "metadata": {
      "needs_background": "light"
     },
     "output_type": "display_data"
    }
   ],
   "source": [
    "plt.title('Accuracy')\n",
    "plt.plot(history.history['accuracy'], label='Train dataset')\n",
    "plt.plot(history.history['val_accuracy'], label='Validation dataset')\n",
    "plt.xlabel('Epoch')\n",
    "plt.ylabel('Accuracy')\n",
    "plt.legend()\n",
    "plt.show()"
   ]
  },
  {
   "cell_type": "markdown",
   "id": "50ce505b",
   "metadata": {},
   "source": [
    "confusion matrix"
   ]
  },
  {
   "cell_type": "code",
   "execution_count": 29,
   "id": "1794a549",
   "metadata": {},
   "outputs": [
    {
     "data": {
      "text/plain": [
       "array([[243,   4],\n",
       "       [  6, 241]], dtype=int64)"
      ]
     },
     "execution_count": 29,
     "metadata": {},
     "output_type": "execute_result"
    }
   ],
   "source": [
    "y_train_pred = model.predict(feature_train)\n",
    "y_train_pred  = y_train_pred > 0.5\n",
    "\n",
    "cm_train = confusion_matrix(y_train, y_train_pred)\n",
    "cm_train"
   ]
  },
  {
   "cell_type": "code",
   "execution_count": 30,
   "id": "f2c45bf5",
   "metadata": {},
   "outputs": [
    {
     "data": {
      "text/plain": [
       "array([[86, 14],\n",
       "       [12, 88]], dtype=int64)"
      ]
     },
     "execution_count": 30,
     "metadata": {},
     "output_type": "execute_result"
    }
   ],
   "source": [
    "y_val_pred = model.predict(feature_val)\n",
    "y_val_pred  = y_val_pred > 0.5\n",
    "\n",
    "cm_val = confusion_matrix(y_val, y_val_pred)\n",
    "cm_val"
   ]
  },
  {
   "cell_type": "markdown",
   "id": "edb5e012",
   "metadata": {},
   "source": [
    "affichage classification report"
   ]
  },
  {
   "cell_type": "code",
   "execution_count": 31,
   "id": "db32a789",
   "metadata": {},
   "outputs": [
    {
     "name": "stdout",
     "output_type": "stream",
     "text": [
      "              precision    recall  f1-score   support\n",
      "\n",
      "     Alien 0       0.98      0.98      0.98       247\n",
      "  Predator 1       0.98      0.98      0.98       247\n",
      "\n",
      "    accuracy                           0.98       494\n",
      "   macro avg       0.98      0.98      0.98       494\n",
      "weighted avg       0.98      0.98      0.98       494\n",
      "\n"
     ]
    }
   ],
   "source": [
    "target_names = ['Alien 0', 'Predator 1']\n",
    "print(classification_report(y_train, y_train_pred, target_names=target_names))"
   ]
  },
  {
   "cell_type": "code",
   "execution_count": 32,
   "id": "66a0cc85",
   "metadata": {},
   "outputs": [
    {
     "name": "stdout",
     "output_type": "stream",
     "text": [
      "              precision    recall  f1-score   support\n",
      "\n",
      "     Alien 0       0.88      0.86      0.87       100\n",
      "  Predator 1       0.86      0.88      0.87       100\n",
      "\n",
      "    accuracy                           0.87       200\n",
      "   macro avg       0.87      0.87      0.87       200\n",
      "weighted avg       0.87      0.87      0.87       200\n",
      "\n"
     ]
    }
   ],
   "source": [
    "target_names = ['Alien 0', 'Predator 1']\n",
    "print(classification_report(y_val, y_val_pred, target_names=target_names))"
   ]
  },
  {
   "cell_type": "markdown",
   "id": "099800b9",
   "metadata": {},
   "source": [
    "save the model"
   ]
  },
  {
   "cell_type": "code",
   "execution_count": 33,
   "id": "0d3e0eb0",
   "metadata": {},
   "outputs": [
    {
     "name": "stdout",
     "output_type": "stream",
     "text": [
      "INFO:tensorflow:Assets written to: model_ep3_iv3\\assets\n"
     ]
    }
   ],
   "source": [
    "model.save('model_ep3_iv3')"
   ]
  },
  {
   "cell_type": "markdown",
   "id": "990b19c5",
   "metadata": {},
   "source": [
    "### Test"
   ]
  },
  {
   "cell_type": "code",
   "execution_count": 34,
   "id": "be605407",
   "metadata": {},
   "outputs": [],
   "source": [
    "y_test_pred = model.predict(feature_test)\n",
    "y_test_pred  = y_test_pred > 0.5"
   ]
  },
  {
   "cell_type": "code",
   "execution_count": 35,
   "id": "57085988",
   "metadata": {},
   "outputs": [
    {
     "data": {
      "text/plain": [
       "array([[92,  8],\n",
       "       [15, 85]], dtype=int64)"
      ]
     },
     "execution_count": 35,
     "metadata": {},
     "output_type": "execute_result"
    }
   ],
   "source": [
    "cm_test = confusion_matrix(y_test, y_test_pred)\n",
    "cm_test"
   ]
  },
  {
   "cell_type": "code",
   "execution_count": 38,
   "id": "894acd1e",
   "metadata": {},
   "outputs": [
    {
     "data": {
      "image/png": "[encoded data removed]",
      "text/plain": [
       "<Figure size 432x288 with 2 Axes>"
      ]
     },
     "metadata": {
      "needs_background": "light"
     },
     "output_type": "display_data"
    }
   ],
   "source": [
    "ax= plt.subplot()\n",
    "\n",
    "group_names = ['True_Neg','False_Pos','False_Neg','True_Pos']\n",
    "group_counts = [\"{0:0.0f}\".format(value) for value in cm_test.flatten()]\n",
    "group_percentages1 = [\"{0:.3%}\".format(value) for value in cm_test.flatten()[0:2]/np.sum(cm_test.flatten()[0:2])]\n",
    "group_percentages2 = [\"{0:.3%}\".format(value) for value in cm_test.flatten()[2:]/np.sum(cm_test.flatten()[2:])]\n",
    "group_percentages = np.append(group_percentages1, group_percentages2).tolist()\n",
    "labels = [f\"{v1}\\n{v2}\\n{v3}\" for v1, v2, v3 in zip (group_names, group_counts, group_percentages)]\n",
    "labels = np.array(labels).reshape(2,2)\n",
    "\n",
    "sns.heatmap(cm_test, annot=labels, fmt='', cmap='Blues')\n",
    "\n",
    "ax.set_xlabel('Predited labels')\n",
    "ax.set_ylabel('True labels') \n",
    "ax.set_title('Confusion Matrix Test') \n",
    "\n",
    "plt.show()"
   ]
  },
  {
   "cell_type": "code",
   "execution_count": 39,
   "id": "440027f5",
   "metadata": {},
   "outputs": [
    {
     "name": "stdout",
     "output_type": "stream",
     "text": [
      "              precision    recall  f1-score   support\n",
      "\n",
      "     Alien 0       0.86      0.92      0.89       100\n",
      "  Predator 1       0.91      0.85      0.88       100\n",
      "\n",
      "    accuracy                           0.89       200\n",
      "   macro avg       0.89      0.89      0.88       200\n",
      "weighted avg       0.89      0.89      0.88       200\n",
      "\n"
     ]
    }
   ],
   "source": [
    "target_names = ['Alien 0', 'Predator 1']\n",
    "print(classification_report(y_test, y_test_pred, target_names=target_names))"
   ]
  },
  {
   "cell_type": "code",
   "execution_count": 42,
   "id": "dbce9347",
   "metadata": {},
   "outputs": [
    {
     "data": {
      "text/plain": [
       "0.885"
      ]
     },
     "execution_count": 42,
     "metadata": {},
     "output_type": "execute_result"
    }
   ],
   "source": [
    "AUC_keras = tensorflow.keras.metrics.AUC()\n",
    "AUC_keras.update_state(y_test, y_test_pred)\n",
    "AUC_keras.result().numpy()"
   ]
  },
  {
   "cell_type": "code",
   "execution_count": 43,
   "id": "972bd2ac",
   "metadata": {},
   "outputs": [
    {
     "data": {
      "image/png": "[encoded data removed]",
      "text/plain": [
       "<Figure size 432x288 with 1 Axes>"
      ]
     },
     "metadata": {
      "needs_background": "light"
     },
     "output_type": "display_data"
    }
   ],
   "source": [
    "#COURBE ROC\n",
    "\n",
    "FP_rate = []\n",
    "TP_rate = []\n",
    "\n",
    "for seuil in AUC_keras.thresholds[1:-1] :\n",
    "    FP_rate_seuil = tensorflow.keras.metrics.FalsePositives(thresholds=seuil)\n",
    "    FP_rate_seuil.update_state(y_test, model.predict(feature_test).flatten())\n",
    "    \n",
    "    FP_rate.append(FP_rate_seuil.result().numpy())\n",
    "    \n",
    "    \n",
    "    TP_rate_seuil = tensorflow.keras.metrics.TruePositives(thresholds=seuil)\n",
    "    TP_rate_seuil.update_state(y_test, model.predict(feature_test).flatten())\n",
    "    \n",
    "    TP_rate.append(TP_rate_seuil.result().numpy())\n",
    "\n",
    "    \n",
    "    \n",
    "#print(TP_rate)\n",
    "#print(FP_rate)\n",
    "    \n",
    "fig = plt.figure()\n",
    "plt.plot(FP_rate, TP_rate)\n",
    "plt.xlabel('FP_rate: False positive rate')\n",
    "plt.ylabel('TP_rate: True positive rate')\n",
    "plt.show()   "
   ]
  },
  {
   "cell_type": "code",
   "execution_count": 44,
   "id": "a823c80a",
   "metadata": {},
   "outputs": [],
   "source": [
    "from sklearn.metrics import roc_curve\n",
    "from sklearn.metrics import auc"
   ]
  },
  {
   "cell_type": "code",
   "execution_count": 45,
   "id": "6af3122e",
   "metadata": {},
   "outputs": [
    {
     "name": "stdout",
     "output_type": "stream",
     "text": [
      "AUC_test : 0.885\n"
     ]
    }
   ],
   "source": [
    "fpr, tpr, thresholds = roc_curve(y_test, y_test_pred)\n",
    "roc_auc = auc(fpr, tpr)\n",
    "print('AUC_test : {:.3f}'.format(roc_auc))"
   ]
  },
  {
   "cell_type": "code",
   "execution_count": 46,
   "id": "5c2adc35",
   "metadata": {},
   "outputs": [],
   "source": [
    "auc = auc(fpr, tpr)"
   ]
  },
  {
   "cell_type": "code",
   "execution_count": 47,
   "id": "04e43c9f",
   "metadata": {},
   "outputs": [
    {
     "data": {
      "image/png": "[encoded data removed]",
      "text/plain": [
       "<Figure size 432x288 with 1 Axes>"
      ]
     },
     "metadata": {
      "needs_background": "light"
     },
     "output_type": "display_data"
    }
   ],
   "source": [
    "plt.plot(fpr, tpr, label='ROC curve (area = %.2f)'%auc)\n",
    "plt.legend()\n",
    "plt.xlabel('FPR: False positive rate')\n",
    "plt.ylabel('TPR: True positive rate')\n",
    "plt.grid()\n",
    "plt.show()"
   ]
  },
  {
   "cell_type": "markdown",
   "id": "a9024314",
   "metadata": {},
   "source": [
    "#### observation :\n",
    "    J'ai obtunu l'accuracy de 0.89 pour Test avec InceptionV3 en comparaison de 0.93 avec VGG-16 et MobileNetv2."
   ]
  },
  {
   "cell_type": "code",
   "execution_count": null,
   "id": "235a75eb",
   "metadata": {},
   "outputs": [],
   "source": []
  },
  {
   "cell_type": "code",
   "execution_count": null,
   "id": "0d1f866b",
   "metadata": {},
   "outputs": [],
   "source": []
  },
  {
   "cell_type": "code",
   "execution_count": null,
   "id": "949925e8",
   "metadata": {},
   "outputs": [],
   "source": [
    "mm"
   ]
  },
  {
   "cell_type": "code",
   "execution_count": null,
   "id": "5d4ce5cd",
   "metadata": {},
   "outputs": [],
   "source": [
    "# ImageDataGenerator rotation\n",
    "datagen = ImageDataGenerator(rotation_range=30, fill_mode='nearest')\n",
    "\n",
    "# iterator\n",
    "aug_iter = datagen.flow(img, batch_size=1)\n",
    "\n",
    "# generate samples and plot\n",
    "fig, ax = plt.subplots(nrows=1, ncols=3, figsize=(15,15))\n",
    "\n",
    "# generate batch of images\n",
    "for i in range(3):\n",
    "\n",
    "    # convert to unsigned integers\n",
    "    image = next(aug_iter)[0].astype('uint8')\n",
    "\n",
    "    # plot image\n",
    "    ax[i].imshow(image)\n",
    "    ax[i].axis('off')"
   ]
  },
  {
   "cell_type": "code",
   "execution_count": null,
   "id": "804f53a7",
   "metadata": {},
   "outputs": [],
   "source": []
  },
  {
   "cell_type": "code",
   "execution_count": null,
   "id": "f0967090",
   "metadata": {},
   "outputs": [],
   "source": []
  },
  {
   "cell_type": "code",
   "execution_count": null,
   "id": "22bacb3a",
   "metadata": {},
   "outputs": [],
   "source": []
  },
  {
   "cell_type": "code",
   "execution_count": null,
   "id": "85fa1655",
   "metadata": {},
   "outputs": [],
   "source": []
  },
  {
   "cell_type": "markdown",
   "id": "06d2cb73",
   "metadata": {},
   "source": [
    "https://machinelearningmastery.com/how-to-configure-image-data-augmentation-when-training-deep-learning-neural-networks/\n",
    "\n",
    "https://github.com/tkeldenich/Computer_Vision_CNN_DataAugmentation/blob/main/Computer_Vision_CNN_DataAugmentation.ipynb"
   ]
  },
  {
   "cell_type": "code",
   "execution_count": null,
   "id": "e1ca1a92",
   "metadata": {},
   "outputs": [],
   "source": []
  },
  {
   "cell_type": "code",
   "execution_count": null,
   "id": "c57876d2",
   "metadata": {},
   "outputs": [],
   "source": []
  }
 ],
 "metadata": {
  "kernelspec": {
   "display_name": "Python 3 (ipykernel)",
   "language": "python",
   "name": "python3"
  },
  "language_info": {
   "codemirror_mode": {
    "name": "ipython",
    "version": 3
   },
   "file_extension": ".py",
   "mimetype": "text/x-python",
   "name": "python",
   "nbconvert_exporter": "python",
   "pygments_lexer": "ipython3",
   "version": "3.9.7"
  }
 },
 "nbformat": 4,
 "nbformat_minor": 5
}
