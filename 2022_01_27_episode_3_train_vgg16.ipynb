{
 "cells": [
  {
   "cell_type": "markdown",
   "id": "0f59d742",
   "metadata": {},
   "source": [
    "# Etude sur Alien vs Predator - épisode 3"
   ]
  },
  {
   "cell_type": "markdown",
   "id": "56b73aaa",
   "metadata": {},
   "source": [
    "Développer un programme de vision par ordinateur capable de différencier avec précision un Alien d'un Predator."
   ]
  },
  {
   "cell_type": "markdown",
   "id": "8eacf95a",
   "metadata": {},
   "source": [
    "Contexte du projet\n",
    "\n",
    "L'épisode 2 a mis en évidence que la technique de \"data augmentation\" permet de diminuer de manière très efficace le surapprentissage mais n'améliore que très peu (dans notre exemple !) la performance de différenciation d'une image d'un alien d'une image d'un prédator. Dans l'épisode 3, nous allons utiliser la technique dite de \"transfer learning\" et plus particulièrement d'extractions de caractéristiques (\"features extraction\") pour améliorer les performances du programme de vision par ordinateur.\n",
    "\n",
    "エピソード2では、データ補強技術は過学習を減らすのに非常に有効であるが、エイリアン画像と捕食者画像の区別の性能は（我々の例では！）わずかに向上するのみであることが示された。第3話では、コンピュータビジョンのプログラムの性能を向上させるために、転移学習、より具体的には特徴抽出を利用します。\n"
   ]
  },
  {
   "cell_type": "markdown",
   "id": "10a7a736",
   "metadata": {},
   "source": [
    "La procédure à suivre est la suivante :\n",
    "\n",
    "    Charger le modèle VGG-16 (mais qu'est-ce donc que ce VGG-16 ?) ;\n",
    "    Extraire les caractéristiques des images des jeux d'apprentissage, de validation et de test via VGG-16 ;\n",
    "    Entrainer un perceptron multi-couches avec le code Keras/TensorFlow suivant pour prédire à partir des caractéristiques extraites par VGG-16 la sortie (Alien ou Prédator) :\n",
    "\n",
    "model = models.Sequential()\n",
    "\n",
    "model.add(layers.Dense(units=256, activation='relu', input_dim=4 * 4 * 512))\n",
    "\n",
    "model.add(layers.Dense(units=1, activation='sigmoid'))\n",
    "\n",
    "    Conclure.\n",
    "\n",
    "    VGG-16モデルをロードします（VGG-16とは一体何でしょうか？）\n",
    "    VGG-16により、トレーニングセット、検証セット、テストセットから画像特徴を抽出する。\n",
    "    VGG-16で抽出した特徴量から出力（エイリアンかプレデターか）を予測するために、以下のKeras/TensorFlowコードで多層パーセプトロンを学習させます。\n",
    "\n",
    "model = models.Sequential()\n",
    "\n",
    "model.add(layers.Dense(units=256, activation='relu', input_dim=4 * 4 * 512))\n",
    "\n",
    "model.add(layers.Dense(units=1, activation=sigmoid'))\n",
    "\n",
    "    結論を出す。\n",
    "\n",
    "\n"
   ]
  },
  {
   "cell_type": "markdown",
   "id": "afb7b084",
   "metadata": {},
   "source": [
    "Tâches optionnelles, pour les plus courageuses et les plus courageux d'entre vous :\n",
    "\n",
    "    Tester d'autres modèles que VGG-16 pour effectuer l'étape de \"features extraction\" ;\n",
    "    Tester d'autres modèles de Machine Learning (par exemple SVM) pour effectuer l'étape de supervision.\n",
    "\n",
    "オプションのタスク、勇敢なあなたへ。\n",
    "\n",
    "    VGG-16以外のモデルで「特徴抽出」ステップをテストする。\n",
    "    他の機械学習モデル（例：SVM）をテストして、監督ステップを実行する。\n",
    "\n"
   ]
  },
  {
   "cell_type": "markdown",
   "id": "a3fd5ee2",
   "metadata": {},
   "source": [
    "### 1 - import librarys"
   ]
  },
  {
   "cell_type": "code",
   "execution_count": 2,
   "id": "0cc36538",
   "metadata": {},
   "outputs": [],
   "source": [
    "import pandas as pd\n",
    "import numpy as np\n",
    "import matplotlib.pyplot as plt\n",
    "from keras.preprocessing.image import load_img, img_to_array\n",
    "from keras.preprocessing.image import ImageDataGenerator\n",
    "from tensorflow.keras.models import Sequential\n",
    "from tensorflow.keras import layers \n",
    "from tensorflow.keras.layers import InputLayer, Dense\n",
    "from tensorflow.keras.layers import Conv2D, MaxPooling2D\n",
    "from tensorflow.keras.optimizers import Adam\n",
    "from sklearn.metrics import classification_report\n",
    "from sklearn.metrics import confusion_matrix\n",
    "from tensorflow.keras.applications.vgg16 import VGG16, preprocess_input, decode_predictions"
   ]
  },
  {
   "cell_type": "markdown",
   "id": "b06bd0ba",
   "metadata": {},
   "source": [
    "### 2 - set option pour l'affichage"
   ]
  },
  {
   "cell_type": "code",
   "execution_count": 3,
   "id": "8dc4ad08",
   "metadata": {},
   "outputs": [],
   "source": [
    "pd.set_option(\"max_columns\", None)\n",
    "pd.set_option(\"max_colwidth\", None)\n",
    "pd.set_option(\"max_row\", 500)"
   ]
  },
  {
   "cell_type": "markdown",
   "id": "790a8921",
   "metadata": {},
   "source": [
    "### 3 - charger des images"
   ]
  },
  {
   "cell_type": "code",
   "execution_count": 31,
   "id": "e0ef6a33",
   "metadata": {},
   "outputs": [],
   "source": [
    "feature_train = np.load('feature_train.npy')\n",
    "feature_val = np.load('feature_val.npy')\n",
    "\n",
    "y_train = np.load('y_train.npy')\n",
    "y_val = np.load('y_val.npy')\n"
   ]
  },
  {
   "cell_type": "code",
   "execution_count": 32,
   "id": "9bb3fc25",
   "metadata": {},
   "outputs": [
    {
     "name": "stdout",
     "output_type": "stream",
     "text": [
      "[[ 0.         15.6525507   0.         ...  0.          0.\n",
      "   5.97944736]\n",
      " [ 0.          5.44161177  0.         ...  0.          0.\n",
      "   0.        ]\n",
      " [ 0.          0.          0.         ...  0.          0.\n",
      "   0.        ]\n",
      " ...\n",
      " [ 0.          0.          0.         ...  0.          0.\n",
      "   0.        ]\n",
      " [ 0.          0.          0.         ...  0.          0.\n",
      "   0.        ]\n",
      " [ 0.          0.          0.         ...  0.          0.\n",
      "   0.        ]]\n"
     ]
    }
   ],
   "source": [
    "print(feature_train)"
   ]
  },
  {
   "cell_type": "markdown",
   "id": "78b1f732",
   "metadata": {},
   "source": [
    "### Entrainer un perceptron multi-couches avec le code Keras suivant pour prédire à partir des caractéristiques extraites par VGG-16 la sortie (Alien ou Prédator)"
   ]
  },
  {
   "cell_type": "code",
   "execution_count": 15,
   "id": "adb2a752",
   "metadata": {},
   "outputs": [],
   "source": [
    "model = Sequential()\n",
    "model.add(layers.Dense(units=256, activation='relu', input_dim=4 * 4 * 512))\n",
    "model.add(layers.Dense(units=1, activation='sigmoid'))"
   ]
  },
  {
   "cell_type": "code",
   "execution_count": 16,
   "id": "18d5c62d",
   "metadata": {},
   "outputs": [],
   "source": [
    "model.compile(loss='binary_crossentropy',\n",
    "              optimizer=\"adam\",\n",
    "              metrics=['accuracy'])"
   ]
  },
  {
   "cell_type": "code",
   "execution_count": 17,
   "id": "94d69b65",
   "metadata": {},
   "outputs": [
    {
     "name": "stdout",
     "output_type": "stream",
     "text": [
      "Model: \"sequential_1\"\n",
      "_________________________________________________________________\n",
      " Layer (type)                Output Shape              Param #   \n",
      "=================================================================\n",
      " dense_2 (Dense)             (None, 256)               2097408   \n",
      "                                                                 \n",
      " dense_3 (Dense)             (None, 1)                 257       \n",
      "                                                                 \n",
      "=================================================================\n",
      "Total params: 2,097,665\n",
      "Trainable params: 2,097,665\n",
      "Non-trainable params: 0\n",
      "_________________________________________________________________\n"
     ]
    }
   ],
   "source": [
    "model.summary()"
   ]
  },
  {
   "cell_type": "code",
   "execution_count": 18,
   "id": "c869f34b",
   "metadata": {},
   "outputs": [
    {
     "name": "stdout",
     "output_type": "stream",
     "text": [
      "Epoch 1/100\n",
      "1/1 [==============================] - 1s 547ms/step - loss: 5.3974 - accuracy: 0.4534 - val_loss: 37.4771 - val_accuracy: 0.5050\n",
      "Epoch 2/100\n",
      "1/1 [==============================] - 0s 106ms/step - loss: 31.8426 - accuracy: 0.5020 - val_loss: 2.8869 - val_accuracy: 0.8300\n",
      "Epoch 3/100\n",
      "1/1 [==============================] - 0s 97ms/step - loss: 0.8414 - accuracy: 0.9291 - val_loss: 5.5119 - val_accuracy: 0.7750\n",
      "Epoch 4/100\n",
      "1/1 [==============================] - 0s 98ms/step - loss: 2.6742 - accuracy: 0.8725 - val_loss: 10.8170 - val_accuracy: 0.6800\n",
      "Epoch 5/100\n",
      "1/1 [==============================] - 0s 99ms/step - loss: 5.4606 - accuracy: 0.7692 - val_loss: 7.1159 - val_accuracy: 0.7300\n",
      "Epoch 6/100\n",
      "1/1 [==============================] - 0s 105ms/step - loss: 2.6127 - accuracy: 0.8563 - val_loss: 3.1666 - val_accuracy: 0.8400\n",
      "Epoch 7/100\n",
      "1/1 [==============================] - 0s 106ms/step - loss: 0.8485 - accuracy: 0.9555 - val_loss: 1.4076 - val_accuracy: 0.8900\n",
      "Epoch 8/100\n",
      "1/1 [==============================] - 0s 95ms/step - loss: 0.2320 - accuracy: 0.9777 - val_loss: 0.8227 - val_accuracy: 0.9150\n",
      "Epoch 9/100\n",
      "1/1 [==============================] - 0s 99ms/step - loss: 0.0819 - accuracy: 0.9939 - val_loss: 0.7523 - val_accuracy: 0.9300\n",
      "Epoch 10/100\n",
      "1/1 [==============================] - 0s 93ms/step - loss: 0.0555 - accuracy: 0.9939 - val_loss: 0.8646 - val_accuracy: 0.9200\n",
      "Epoch 11/100\n",
      "1/1 [==============================] - 0s 95ms/step - loss: 0.0551 - accuracy: 0.9939 - val_loss: 1.0363 - val_accuracy: 0.8900\n",
      "Epoch 12/100\n",
      "1/1 [==============================] - 0s 94ms/step - loss: 0.0737 - accuracy: 0.9858 - val_loss: 1.1968 - val_accuracy: 0.8700\n",
      "Epoch 13/100\n",
      "1/1 [==============================] - 0s 94ms/step - loss: 0.0864 - accuracy: 0.9838 - val_loss: 1.3331 - val_accuracy: 0.8650\n",
      "Epoch 14/100\n",
      "1/1 [==============================] - 0s 94ms/step - loss: 0.0812 - accuracy: 0.9777 - val_loss: 1.4133 - val_accuracy: 0.8600\n",
      "Epoch 15/100\n",
      "1/1 [==============================] - 0s 94ms/step - loss: 0.0580 - accuracy: 0.9777 - val_loss: 1.4326 - val_accuracy: 0.8600\n",
      "Epoch 16/100\n",
      "1/1 [==============================] - 0s 107ms/step - loss: 0.0252 - accuracy: 0.9879 - val_loss: 1.4143 - val_accuracy: 0.8600\n",
      "Epoch 17/100\n",
      "1/1 [==============================] - 0s 106ms/step - loss: 0.0086 - accuracy: 0.9980 - val_loss: 1.3831 - val_accuracy: 0.8650\n",
      "Epoch 18/100\n",
      "1/1 [==============================] - 0s 93ms/step - loss: 0.0035 - accuracy: 1.0000 - val_loss: 1.3479 - val_accuracy: 0.8650\n",
      "Epoch 19/100\n",
      "1/1 [==============================] - 0s 96ms/step - loss: 0.0017 - accuracy: 1.0000 - val_loss: 1.3115 - val_accuracy: 0.8650\n",
      "Epoch 20/100\n",
      "1/1 [==============================] - 0s 94ms/step - loss: 8.8453e-04 - accuracy: 1.0000 - val_loss: 1.2750 - val_accuracy: 0.8650\n",
      "Epoch 21/100\n",
      "1/1 [==============================] - 0s 101ms/step - loss: 5.3176e-04 - accuracy: 1.0000 - val_loss: 1.2402 - val_accuracy: 0.8750\n",
      "Epoch 22/100\n",
      "1/1 [==============================] - 0s 101ms/step - loss: 3.4606e-04 - accuracy: 1.0000 - val_loss: 1.2082 - val_accuracy: 0.8750\n",
      "Epoch 23/100\n",
      "1/1 [==============================] - 0s 107ms/step - loss: 2.3929e-04 - accuracy: 1.0000 - val_loss: 1.1790 - val_accuracy: 0.8750\n",
      "Epoch 24/100\n",
      "1/1 [==============================] - 0s 94ms/step - loss: 1.8096e-04 - accuracy: 1.0000 - val_loss: 1.1517 - val_accuracy: 0.8750\n",
      "Epoch 25/100\n",
      "1/1 [==============================] - 0s 94ms/step - loss: 1.4795e-04 - accuracy: 1.0000 - val_loss: 1.1266 - val_accuracy: 0.8750\n",
      "Epoch 26/100\n",
      "1/1 [==============================] - 0s 94ms/step - loss: 1.2634e-04 - accuracy: 1.0000 - val_loss: 1.1037 - val_accuracy: 0.8750\n",
      "Epoch 27/100\n",
      "1/1 [==============================] - 0s 100ms/step - loss: 1.1054e-04 - accuracy: 1.0000 - val_loss: 1.0817 - val_accuracy: 0.8800\n",
      "Epoch 28/100\n",
      "1/1 [==============================] - 0s 97ms/step - loss: 9.8477e-05 - accuracy: 1.0000 - val_loss: 1.0617 - val_accuracy: 0.8850\n",
      "Epoch 29/100\n",
      "1/1 [==============================] - 0s 96ms/step - loss: 8.7177e-05 - accuracy: 1.0000 - val_loss: 1.0436 - val_accuracy: 0.8850\n",
      "Epoch 30/100\n",
      "1/1 [==============================] - 0s 105ms/step - loss: 7.7357e-05 - accuracy: 1.0000 - val_loss: 1.0273 - val_accuracy: 0.8850\n",
      "Epoch 31/100\n",
      "1/1 [==============================] - 0s 93ms/step - loss: 6.9306e-05 - accuracy: 1.0000 - val_loss: 1.0125 - val_accuracy: 0.8850\n",
      "Epoch 32/100\n",
      "1/1 [==============================] - 0s 95ms/step - loss: 6.2683e-05 - accuracy: 1.0000 - val_loss: 0.9990 - val_accuracy: 0.8850\n",
      "Epoch 33/100\n",
      "1/1 [==============================] - 0s 93ms/step - loss: 5.7167e-05 - accuracy: 1.0000 - val_loss: 0.9869 - val_accuracy: 0.8850\n",
      "Epoch 34/100\n",
      "1/1 [==============================] - 0s 98ms/step - loss: 5.2525e-05 - accuracy: 1.0000 - val_loss: 0.9758 - val_accuracy: 0.8850\n",
      "Epoch 35/100\n",
      "1/1 [==============================] - 0s 93ms/step - loss: 4.8545e-05 - accuracy: 1.0000 - val_loss: 0.9658 - val_accuracy: 0.8900\n",
      "Epoch 36/100\n",
      "1/1 [==============================] - 0s 99ms/step - loss: 4.5050e-05 - accuracy: 1.0000 - val_loss: 0.9566 - val_accuracy: 0.8900\n",
      "Epoch 37/100\n",
      "1/1 [==============================] - 0s 100ms/step - loss: 4.1864e-05 - accuracy: 1.0000 - val_loss: 0.9484 - val_accuracy: 0.8900\n",
      "Epoch 38/100\n",
      "1/1 [==============================] - 0s 94ms/step - loss: 3.8831e-05 - accuracy: 1.0000 - val_loss: 0.9408 - val_accuracy: 0.8900\n",
      "Epoch 39/100\n",
      "1/1 [==============================] - 0s 92ms/step - loss: 3.6113e-05 - accuracy: 1.0000 - val_loss: 0.9340 - val_accuracy: 0.8900\n",
      "Epoch 40/100\n",
      "1/1 [==============================] - 0s 93ms/step - loss: 3.3650e-05 - accuracy: 1.0000 - val_loss: 0.9277 - val_accuracy: 0.8900\n",
      "Epoch 41/100\n",
      "1/1 [==============================] - 0s 92ms/step - loss: 3.1445e-05 - accuracy: 1.0000 - val_loss: 0.9218 - val_accuracy: 0.8950\n",
      "Epoch 42/100\n",
      "1/1 [==============================] - 0s 92ms/step - loss: 2.9463e-05 - accuracy: 1.0000 - val_loss: 0.9165 - val_accuracy: 0.8950\n",
      "Epoch 43/100\n",
      "1/1 [==============================] - 0s 89ms/step - loss: 2.7678e-05 - accuracy: 1.0000 - val_loss: 0.9117 - val_accuracy: 0.8950\n",
      "Epoch 44/100\n",
      "1/1 [==============================] - 0s 92ms/step - loss: 2.6063e-05 - accuracy: 1.0000 - val_loss: 0.9071 - val_accuracy: 0.8950\n",
      "Epoch 45/100\n",
      "1/1 [==============================] - 0s 90ms/step - loss: 2.4595e-05 - accuracy: 1.0000 - val_loss: 0.9029 - val_accuracy: 0.8950\n",
      "Epoch 46/100\n",
      "1/1 [==============================] - 0s 89ms/step - loss: 2.3265e-05 - accuracy: 1.0000 - val_loss: 0.8991 - val_accuracy: 0.8950\n",
      "Epoch 47/100\n",
      "1/1 [==============================] - 0s 92ms/step - loss: 2.2058e-05 - accuracy: 1.0000 - val_loss: 0.8956 - val_accuracy: 0.8950\n",
      "Epoch 48/100\n",
      "1/1 [==============================] - 0s 91ms/step - loss: 2.0964e-05 - accuracy: 1.0000 - val_loss: 0.8924 - val_accuracy: 0.8950\n",
      "Epoch 49/100\n",
      "1/1 [==============================] - 0s 96ms/step - loss: 1.9960e-05 - accuracy: 1.0000 - val_loss: 0.8894 - val_accuracy: 0.8950\n",
      "Epoch 50/100\n",
      "1/1 [==============================] - 0s 97ms/step - loss: 1.9042e-05 - accuracy: 1.0000 - val_loss: 0.8867 - val_accuracy: 0.8950\n",
      "Epoch 51/100\n",
      "1/1 [==============================] - 0s 97ms/step - loss: 1.8205e-05 - accuracy: 1.0000 - val_loss: 0.8842 - val_accuracy: 0.8950\n",
      "Epoch 52/100\n",
      "1/1 [==============================] - 0s 92ms/step - loss: 1.7439e-05 - accuracy: 1.0000 - val_loss: 0.8819 - val_accuracy: 0.8950\n",
      "Epoch 53/100\n",
      "1/1 [==============================] - 0s 90ms/step - loss: 1.6736e-05 - accuracy: 1.0000 - val_loss: 0.8797 - val_accuracy: 0.8950\n",
      "Epoch 54/100\n",
      "1/1 [==============================] - 0s 94ms/step - loss: 1.6090e-05 - accuracy: 1.0000 - val_loss: 0.8778 - val_accuracy: 0.8950\n",
      "Epoch 55/100\n",
      "1/1 [==============================] - 0s 103ms/step - loss: 1.5494e-05 - accuracy: 1.0000 - val_loss: 0.8760 - val_accuracy: 0.8950\n",
      "Epoch 56/100\n",
      "1/1 [==============================] - 0s 99ms/step - loss: 1.4944e-05 - accuracy: 1.0000 - val_loss: 0.8744 - val_accuracy: 0.8950\n",
      "Epoch 57/100\n",
      "1/1 [==============================] - 0s 93ms/step - loss: 1.4435e-05 - accuracy: 1.0000 - val_loss: 0.8729 - val_accuracy: 0.8950\n"
     ]
    },
    {
     "name": "stdout",
     "output_type": "stream",
     "text": [
      "Epoch 58/100\n",
      "1/1 [==============================] - 0s 96ms/step - loss: 1.3963e-05 - accuracy: 1.0000 - val_loss: 0.8715 - val_accuracy: 0.8950\n",
      "Epoch 59/100\n",
      "1/1 [==============================] - 0s 97ms/step - loss: 1.3524e-05 - accuracy: 1.0000 - val_loss: 0.8702 - val_accuracy: 0.8950\n",
      "Epoch 60/100\n",
      "1/1 [==============================] - 0s 94ms/step - loss: 1.3117e-05 - accuracy: 1.0000 - val_loss: 0.8691 - val_accuracy: 0.8950\n",
      "Epoch 61/100\n",
      "1/1 [==============================] - 0s 93ms/step - loss: 1.2737e-05 - accuracy: 1.0000 - val_loss: 0.8680 - val_accuracy: 0.8950\n",
      "Epoch 62/100\n",
      "1/1 [==============================] - 0s 90ms/step - loss: 1.2382e-05 - accuracy: 1.0000 - val_loss: 0.8670 - val_accuracy: 0.8950\n",
      "Epoch 63/100\n",
      "1/1 [==============================] - 0s 92ms/step - loss: 1.2050e-05 - accuracy: 1.0000 - val_loss: 0.8661 - val_accuracy: 0.8950\n",
      "Epoch 64/100\n",
      "1/1 [==============================] - 0s 98ms/step - loss: 1.1739e-05 - accuracy: 1.0000 - val_loss: 0.8652 - val_accuracy: 0.8950\n",
      "Epoch 65/100\n",
      "1/1 [==============================] - 0s 91ms/step - loss: 1.1447e-05 - accuracy: 1.0000 - val_loss: 0.8644 - val_accuracy: 0.8950\n",
      "Epoch 66/100\n",
      "1/1 [==============================] - 0s 98ms/step - loss: 1.1173e-05 - accuracy: 1.0000 - val_loss: 0.8637 - val_accuracy: 0.8950\n",
      "Epoch 67/100\n",
      "1/1 [==============================] - 0s 91ms/step - loss: 1.0914e-05 - accuracy: 1.0000 - val_loss: 0.8630 - val_accuracy: 0.8950\n",
      "Epoch 68/100\n",
      "1/1 [==============================] - 0s 89ms/step - loss: 1.0671e-05 - accuracy: 1.0000 - val_loss: 0.8623 - val_accuracy: 0.8950\n",
      "Epoch 69/100\n",
      "1/1 [==============================] - 0s 94ms/step - loss: 1.0441e-05 - accuracy: 1.0000 - val_loss: 0.8617 - val_accuracy: 0.8950\n",
      "Epoch 70/100\n",
      "1/1 [==============================] - 0s 92ms/step - loss: 1.0223e-05 - accuracy: 1.0000 - val_loss: 0.8612 - val_accuracy: 0.8950\n",
      "Epoch 71/100\n",
      "1/1 [==============================] - 0s 89ms/step - loss: 1.0016e-05 - accuracy: 1.0000 - val_loss: 0.8607 - val_accuracy: 0.8950\n",
      "Epoch 72/100\n",
      "1/1 [==============================] - 0s 91ms/step - loss: 9.8206e-06 - accuracy: 1.0000 - val_loss: 0.8602 - val_accuracy: 0.8950\n",
      "Epoch 73/100\n",
      "1/1 [==============================] - 0s 95ms/step - loss: 9.6344e-06 - accuracy: 1.0000 - val_loss: 0.8597 - val_accuracy: 0.8950\n",
      "Epoch 74/100\n",
      "1/1 [==============================] - 0s 95ms/step - loss: 9.4572e-06 - accuracy: 1.0000 - val_loss: 0.8593 - val_accuracy: 0.8950\n",
      "Epoch 75/100\n",
      "1/1 [==============================] - 0s 91ms/step - loss: 9.2883e-06 - accuracy: 1.0000 - val_loss: 0.8588 - val_accuracy: 0.8950\n",
      "Epoch 76/100\n",
      "1/1 [==============================] - 0s 94ms/step - loss: 9.1271e-06 - accuracy: 1.0000 - val_loss: 0.8585 - val_accuracy: 0.8950\n",
      "Epoch 77/100\n",
      "1/1 [==============================] - 0s 104ms/step - loss: 8.9731e-06 - accuracy: 1.0000 - val_loss: 0.8581 - val_accuracy: 0.8950\n",
      "Epoch 78/100\n",
      "1/1 [==============================] - 0s 96ms/step - loss: 8.8257e-06 - accuracy: 1.0000 - val_loss: 0.8577 - val_accuracy: 0.8950\n",
      "Epoch 79/100\n",
      "1/1 [==============================] - 0s 93ms/step - loss: 8.6844e-06 - accuracy: 1.0000 - val_loss: 0.8574 - val_accuracy: 0.8950\n",
      "Epoch 80/100\n",
      "1/1 [==============================] - 0s 100ms/step - loss: 8.5489e-06 - accuracy: 1.0000 - val_loss: 0.8571 - val_accuracy: 0.8950\n",
      "Epoch 81/100\n",
      "1/1 [==============================] - 0s 94ms/step - loss: 8.4188e-06 - accuracy: 1.0000 - val_loss: 0.8568 - val_accuracy: 0.8950\n",
      "Epoch 82/100\n",
      "1/1 [==============================] - 0s 98ms/step - loss: 8.2936e-06 - accuracy: 1.0000 - val_loss: 0.8565 - val_accuracy: 0.8950\n",
      "Epoch 83/100\n",
      "1/1 [==============================] - 0s 95ms/step - loss: 8.1731e-06 - accuracy: 1.0000 - val_loss: 0.8562 - val_accuracy: 0.8950\n",
      "Epoch 84/100\n",
      "1/1 [==============================] - 0s 97ms/step - loss: 8.0571e-06 - accuracy: 1.0000 - val_loss: 0.8559 - val_accuracy: 0.8950\n",
      "Epoch 85/100\n",
      "1/1 [==============================] - 0s 94ms/step - loss: 7.9451e-06 - accuracy: 1.0000 - val_loss: 0.8557 - val_accuracy: 0.8950\n",
      "Epoch 86/100\n",
      "1/1 [==============================] - 0s 95ms/step - loss: 7.8370e-06 - accuracy: 1.0000 - val_loss: 0.8554 - val_accuracy: 0.8950\n",
      "Epoch 87/100\n",
      "1/1 [==============================] - 0s 94ms/step - loss: 7.7325e-06 - accuracy: 1.0000 - val_loss: 0.8552 - val_accuracy: 0.8950\n",
      "Epoch 88/100\n",
      "1/1 [==============================] - 0s 94ms/step - loss: 7.6314e-06 - accuracy: 1.0000 - val_loss: 0.8550 - val_accuracy: 0.8950\n",
      "Epoch 89/100\n",
      "1/1 [==============================] - 0s 93ms/step - loss: 7.5335e-06 - accuracy: 1.0000 - val_loss: 0.8547 - val_accuracy: 0.8950\n",
      "Epoch 90/100\n",
      "1/1 [==============================] - 0s 98ms/step - loss: 7.4387e-06 - accuracy: 1.0000 - val_loss: 0.8545 - val_accuracy: 0.8950\n",
      "Epoch 91/100\n",
      "1/1 [==============================] - 0s 96ms/step - loss: 7.3467e-06 - accuracy: 1.0000 - val_loss: 0.8543 - val_accuracy: 0.8950\n",
      "Epoch 92/100\n",
      "1/1 [==============================] - 0s 106ms/step - loss: 7.2574e-06 - accuracy: 1.0000 - val_loss: 0.8541 - val_accuracy: 0.8950\n",
      "Epoch 93/100\n",
      "1/1 [==============================] - 0s 116ms/step - loss: 7.1706e-06 - accuracy: 1.0000 - val_loss: 0.8539 - val_accuracy: 0.8950\n",
      "Epoch 94/100\n",
      "1/1 [==============================] - 0s 111ms/step - loss: 7.0863e-06 - accuracy: 1.0000 - val_loss: 0.8537 - val_accuracy: 0.8950\n",
      "Epoch 95/100\n",
      "1/1 [==============================] - 0s 113ms/step - loss: 7.0043e-06 - accuracy: 1.0000 - val_loss: 0.8535 - val_accuracy: 0.8950\n",
      "Epoch 96/100\n",
      "1/1 [==============================] - 0s 106ms/step - loss: 6.9245e-06 - accuracy: 1.0000 - val_loss: 0.8533 - val_accuracy: 0.8950\n",
      "Epoch 97/100\n",
      "1/1 [==============================] - 0s 113ms/step - loss: 6.8468e-06 - accuracy: 1.0000 - val_loss: 0.8531 - val_accuracy: 0.8950\n",
      "Epoch 98/100\n",
      "1/1 [==============================] - 0s 105ms/step - loss: 6.7710e-06 - accuracy: 1.0000 - val_loss: 0.8529 - val_accuracy: 0.8950\n",
      "Epoch 99/100\n",
      "1/1 [==============================] - 0s 97ms/step - loss: 6.6971e-06 - accuracy: 1.0000 - val_loss: 0.8527 - val_accuracy: 0.8950\n",
      "Epoch 100/100\n",
      "1/1 [==============================] - 0s 114ms/step - loss: 6.6250e-06 - accuracy: 1.0000 - val_loss: 0.8526 - val_accuracy: 0.8950\n"
     ]
    }
   ],
   "source": [
    "history = model.fit(feature_train, \n",
    "          y_train,\n",
    "          epochs = 100,\n",
    "          validation_data = (feature_val, \n",
    "                             y_val), \n",
    "          steps_per_epoch=1,#for generator use only, si x_train est créé par numpy, utilise batch_size\n",
    "          validation_steps=1\n",
    "         )"
   ]
  },
  {
   "cell_type": "code",
   "execution_count": 1,
   "id": "893dfc0a",
   "metadata": {},
   "outputs": [],
   "source": [
    "#history.history['loss']"
   ]
  },
  {
   "cell_type": "code",
   "execution_count": 20,
   "id": "55714fba",
   "metadata": {},
   "outputs": [
    {
     "data": {
      "image/png": "[encoded data removed]",
      "text/plain": [
       "<Figure size 432x288 with 1 Axes>"
      ]
     },
     "metadata": {
      "needs_background": "light"
     },
     "output_type": "display_data"
    }
   ],
   "source": [
    "plt.title('Loss')\n",
    "plt.plot(history.history['loss'], label='Train dataset')\n",
    "plt.plot(history.history['val_loss'], label='Validation dataset')\n",
    "plt.xlabel('Epoch')\n",
    "plt.ylabel('Loss')\n",
    "plt.legend()\n",
    "plt.show()"
   ]
  },
  {
   "cell_type": "code",
   "execution_count": 21,
   "id": "d5d89e8c",
   "metadata": {},
   "outputs": [
    {
     "data": {
      "image/png": "[encoded data removed]",
      "text/plain": [
       "<Figure size 432x288 with 1 Axes>"
      ]
     },
     "metadata": {
      "needs_background": "light"
     },
     "output_type": "display_data"
    }
   ],
   "source": [
    "plt.title('Accuracy')\n",
    "plt.plot(history.history['accuracy'], label='Train dataset')\n",
    "plt.plot(history.history['val_accuracy'], label='Validation dataset')\n",
    "plt.xlabel('Epoch')\n",
    "plt.ylabel('Accuracy')\n",
    "plt.legend()\n",
    "plt.show()"
   ]
  },
  {
   "cell_type": "markdown",
   "id": "50ce505b",
   "metadata": {},
   "source": [
    "confusion matrix"
   ]
  },
  {
   "cell_type": "code",
   "execution_count": 22,
   "id": "1794a549",
   "metadata": {},
   "outputs": [
    {
     "data": {
      "text/plain": [
       "array([[247,   0],\n",
       "       [  0, 247]], dtype=int64)"
      ]
     },
     "execution_count": 22,
     "metadata": {},
     "output_type": "execute_result"
    }
   ],
   "source": [
    "y_train_pred = model.predict(feature_train)\n",
    "y_train_pred  = y_train_pred > 0.5\n",
    "\n",
    "cm_train = confusion_matrix(y_train, y_train_pred)\n",
    "cm_train"
   ]
  },
  {
   "cell_type": "code",
   "execution_count": 23,
   "id": "f2c45bf5",
   "metadata": {},
   "outputs": [
    {
     "data": {
      "text/plain": [
       "array([[81, 19],\n",
       "       [ 2, 98]], dtype=int64)"
      ]
     },
     "execution_count": 23,
     "metadata": {},
     "output_type": "execute_result"
    }
   ],
   "source": [
    "y_val_pred = model.predict(feature_val)\n",
    "y_val_pred  = y_val_pred > 0.5\n",
    "\n",
    "cm_val = confusion_matrix(y_val, y_val_pred)\n",
    "cm_val"
   ]
  },
  {
   "cell_type": "markdown",
   "id": "edb5e012",
   "metadata": {},
   "source": [
    "affichage classification report"
   ]
  },
  {
   "cell_type": "code",
   "execution_count": 24,
   "id": "db32a789",
   "metadata": {},
   "outputs": [
    {
     "name": "stdout",
     "output_type": "stream",
     "text": [
      "              precision    recall  f1-score   support\n",
      "\n",
      "     Alien 0       1.00      1.00      1.00       247\n",
      "  Predator 1       1.00      1.00      1.00       247\n",
      "\n",
      "    accuracy                           1.00       494\n",
      "   macro avg       1.00      1.00      1.00       494\n",
      "weighted avg       1.00      1.00      1.00       494\n",
      "\n"
     ]
    }
   ],
   "source": [
    "target_names = ['Alien 0', 'Predator 1']\n",
    "print(classification_report(y_train, y_train_pred, target_names=target_names))"
   ]
  },
  {
   "cell_type": "code",
   "execution_count": 25,
   "id": "66a0cc85",
   "metadata": {},
   "outputs": [
    {
     "name": "stdout",
     "output_type": "stream",
     "text": [
      "              precision    recall  f1-score   support\n",
      "\n",
      "     Alien 0       0.98      0.81      0.89       100\n",
      "  Predator 1       0.84      0.98      0.90       100\n",
      "\n",
      "    accuracy                           0.90       200\n",
      "   macro avg       0.91      0.90      0.89       200\n",
      "weighted avg       0.91      0.90      0.89       200\n",
      "\n"
     ]
    }
   ],
   "source": [
    "target_names = ['Alien 0', 'Predator 1']\n",
    "print(classification_report(y_val, y_val_pred, target_names=target_names))"
   ]
  },
  {
   "cell_type": "markdown",
   "id": "099800b9",
   "metadata": {},
   "source": [
    "save the model"
   ]
  },
  {
   "cell_type": "code",
   "execution_count": 28,
   "id": "0d3e0eb0",
   "metadata": {},
   "outputs": [],
   "source": [
    "#model.save('model_ep3_best.h5')#fini h5"
   ]
  },
  {
   "cell_type": "markdown",
   "id": "8bb88dfd",
   "metadata": {},
   "source": [
    "### save for tensorflow model : model.save()"
   ]
  },
  {
   "cell_type": "code",
   "execution_count": 30,
   "id": "be605407",
   "metadata": {},
   "outputs": [
    {
     "name": "stdout",
     "output_type": "stream",
     "text": [
      "INFO:tensorflow:Assets written to: best_model_ep3\\assets\n"
     ]
    }
   ],
   "source": [
    "model.save('best_model_ep3')"
   ]
  },
  {
   "cell_type": "code",
   "execution_count": null,
   "id": "57085988",
   "metadata": {},
   "outputs": [],
   "source": []
  },
  {
   "cell_type": "code",
   "execution_count": null,
   "id": "894acd1e",
   "metadata": {},
   "outputs": [],
   "source": []
  },
  {
   "cell_type": "code",
   "execution_count": null,
   "id": "0d1f866b",
   "metadata": {},
   "outputs": [],
   "source": []
  },
  {
   "cell_type": "markdown",
   "id": "625f8460",
   "metadata": {},
   "source": [
    "preprocess_fucntion : 各入力に適用される関数。この関数は他の変更が行われる前に実行される。この関数は３次元のNumpyテンソルを引数にとり、同じshapeのテンソルを出力するように定義する必要あり。\n",
    "\n",
    "各モデルにpreprocess_inputという便利な関数があります:モデルに適した値に正規化 ImageDataGenerator( preprocessing_function=preprocess_input, )\n",
    "\n",
    "https://qiita.com/tatsuya11bbs/items/f2008ba8c6f127ce7524 from tensorflow.keras.applications.mobilenet_v2 import preprocess_input\n"
   ]
  },
  {
   "cell_type": "code",
   "execution_count": null,
   "id": "f0967090",
   "metadata": {},
   "outputs": [],
   "source": []
  },
  {
   "cell_type": "code",
   "execution_count": null,
   "id": "22bacb3a",
   "metadata": {},
   "outputs": [],
   "source": []
  },
  {
   "cell_type": "code",
   "execution_count": null,
   "id": "85fa1655",
   "metadata": {},
   "outputs": [],
   "source": []
  },
  {
   "cell_type": "markdown",
   "id": "06d2cb73",
   "metadata": {},
   "source": [
    "https://machinelearningmastery.com/how-to-configure-image-data-augmentation-when-training-deep-learning-neural-networks/\n",
    "\n",
    "https://github.com/tkeldenich/Computer_Vision_CNN_DataAugmentation/blob/main/Computer_Vision_CNN_DataAugmentation.ipynb"
   ]
  },
  {
   "cell_type": "code",
   "execution_count": null,
   "id": "e1ca1a92",
   "metadata": {},
   "outputs": [],
   "source": []
  },
  {
   "cell_type": "code",
   "execution_count": null,
   "id": "c57876d2",
   "metadata": {},
   "outputs": [],
   "source": []
  }
 ],
 "metadata": {
  "kernelspec": {
   "display_name": "Python 3 (ipykernel)",
   "language": "python",
   "name": "python3"
  },
  "language_info": {
   "codemirror_mode": {
    "name": "ipython",
    "version": 3
   },
   "file_extension": ".py",
   "mimetype": "text/x-python",
   "name": "python",
   "nbconvert_exporter": "python",
   "pygments_lexer": "ipython3",
   "version": "3.9.7"
  }
 },
 "nbformat": 4,
 "nbformat_minor": 5
}
